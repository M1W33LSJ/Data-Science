{
 "cells": [
  {
   "cell_type": "markdown",
   "id": "1f39b50f-0b52-4c10-bcda-687021599786",
   "metadata": {
    "tags": []
   },
   "source": [
    "# Problem Statment\n",
    "## Churn Prediction\n",
    "W projekcie przeprowadzę analize danych oraz opracuje model, który będzię dawał informację na temat tego jak duża jest szansa, że dany klient zrezygnuje z usług banku."
   ]
  },
  {
   "cell_type": "code",
   "execution_count": 1,
   "id": "14be35d1-3b6a-47c6-adfe-1a79f02909c7",
   "metadata": {},
   "outputs": [],
   "source": [
    "import numpy as np\n",
    "import pandas as pd\n",
    "import matplotlib.pyplot as plt\n",
    "import seaborn as sns\n",
    "%matplotlib inline\n",
    "sns.set_style('dark')"
   ]
  },
  {
   "cell_type": "markdown",
   "id": "8fac9123-38e8-451e-9195-09a41d16675b",
   "metadata": {},
   "source": [
    "    RowNumber: corresponds to the record (row) number and has no effect on the output.\n",
    "    CustomerId: contains random values and has no effect on customer leaving the bank.\n",
    "    Surname: the surname of a customer has no impact on their decision to leave the bank.\n",
    "    CreditScore: can have an effect on customer churn, since a customer with a higher credit score is less likely to leave the bank.\n",
    "    Geography: a customer’s location can affect their decision to leave the bank.\n",
    "    Gender: it’s interesting to explore whether gender plays a role in a customer leaving the bank.\n",
    "    Age: this is certainly relevant, since older customers are less likely to leave their bank than younger ones.\n",
    "    Tenure: refers to the number of years that the customer has been a client of the bank. Normally, older clients are more loyal and less likely to leave a bank.\n",
    "    Balance: also a very good indicator of customer churn, as people with a higher balance in their accounts are less likely to leave the bank compared to those with lower balances.\n",
    "    NumOfProducts: refers to the number of products that a customer has purchased through the bank.\n",
    "    HasCrCard: denotes whether or not a customer has a credit card. This column is also relevant, since people with a credit card are less likely to leave the bank.\n",
    "    IsActiveMember: active customers are less likely to leave the bank.\n",
    "    EstimatedSalary: as with balance, people with lower salaries are more likely to leave the bank compared to those with higher salaries.\n",
    "    Exited: whether or not the customer left the bank. (0=No,1=Yes)\n"
   ]
  },
  {
   "cell_type": "markdown",
   "id": "79bc0a3e-e302-4ec7-884a-ea643941dd0f",
   "metadata": {
    "tags": []
   },
   "source": [
    "# Data Cleaning\n",
    " - Remove duplicate values ✅\n",
    " - Remove irrelevant observations ✅\n",
    " - Addres missing values ✅\n",
    " - Reformat data types\n",
    " - Filter unwanted outliers\n",
    " - Reformat strings ✅\n",
    " - Validate"
   ]
  },
  {
   "cell_type": "code",
   "execution_count": 2,
   "id": "6ca46c93-fd80-4b3e-9ba9-1afa1a7d8ca9",
   "metadata": {},
   "outputs": [],
   "source": [
    "df = pd.read_csv('Churn_Modelling.csv')"
   ]
  },
  {
   "cell_type": "code",
   "execution_count": 3,
   "id": "93247963-203f-4560-b526-e0480fda297a",
   "metadata": {},
   "outputs": [
    {
     "data": {
      "text/plain": [
       "False    10000\n",
       "Name: CustomerId, dtype: int64"
      ]
     },
     "execution_count": 3,
     "metadata": {},
     "output_type": "execute_result"
    }
   ],
   "source": [
    "df['CustomerId'].duplicated().value_counts()"
   ]
  },
  {
   "cell_type": "code",
   "execution_count": 4,
   "id": "a796e1fa-6519-463c-8c11-b839cdee3f24",
   "metadata": {
    "tags": []
   },
   "outputs": [],
   "source": [
    "df.drop(columns = ['RowNumber', 'CustomerId', 'Surname'], inplace=True)"
   ]
  },
  {
   "cell_type": "code",
   "execution_count": 5,
   "id": "b059f30f-86d5-4320-bdad-947292729782",
   "metadata": {},
   "outputs": [
    {
     "data": {
      "text/plain": [
       "0    7963\n",
       "1    2037\n",
       "Name: Exited, dtype: int64"
      ]
     },
     "execution_count": 5,
     "metadata": {},
     "output_type": "execute_result"
    }
   ],
   "source": [
    "df['Exited'].value_counts()"
   ]
  },
  {
   "cell_type": "markdown",
   "id": "76dfdd50-36ae-4f4a-90eb-38456b08b777",
   "metadata": {},
   "source": [
    "Możemy pozbyć się kolumn RowNumber, CustomerId, Surname ponieważ nie będą one nam potrzebne do analizy oraz modelu."
   ]
  },
  {
   "cell_type": "code",
   "execution_count": 6,
   "id": "fdbfd1c7-411f-4f2a-9ac3-a2c44082575d",
   "metadata": {},
   "outputs": [
    {
     "data": {
      "text/plain": [
       "CreditScore        0\n",
       "Geography          0\n",
       "Gender             0\n",
       "Age                0\n",
       "Tenure             0\n",
       "Balance            0\n",
       "NumOfProducts      0\n",
       "HasCrCard          0\n",
       "IsActiveMember     0\n",
       "EstimatedSalary    0\n",
       "Exited             0\n",
       "dtype: int64"
      ]
     },
     "execution_count": 6,
     "metadata": {},
     "output_type": "execute_result"
    }
   ],
   "source": [
    "df.isnull().sum()"
   ]
  },
  {
   "cell_type": "code",
   "execution_count": 7,
   "id": "dd0a3f1e-1769-4856-885e-24b1f4f68722",
   "metadata": {},
   "outputs": [
    {
     "name": "stdout",
     "output_type": "stream",
     "text": [
      "<class 'pandas.core.frame.DataFrame'>\n",
      "RangeIndex: 10000 entries, 0 to 9999\n",
      "Data columns (total 11 columns):\n",
      " #   Column           Non-Null Count  Dtype  \n",
      "---  ------           --------------  -----  \n",
      " 0   CreditScore      10000 non-null  int64  \n",
      " 1   Geography        10000 non-null  object \n",
      " 2   Gender           10000 non-null  object \n",
      " 3   Age              10000 non-null  int64  \n",
      " 4   Tenure           10000 non-null  int64  \n",
      " 5   Balance          10000 non-null  float64\n",
      " 6   NumOfProducts    10000 non-null  int64  \n",
      " 7   HasCrCard        10000 non-null  int64  \n",
      " 8   IsActiveMember   10000 non-null  int64  \n",
      " 9   EstimatedSalary  10000 non-null  float64\n",
      " 10  Exited           10000 non-null  int64  \n",
      "dtypes: float64(2), int64(7), object(2)\n",
      "memory usage: 859.5+ KB\n"
     ]
    }
   ],
   "source": [
    "df.info()"
   ]
  },
  {
   "cell_type": "code",
   "execution_count": 8,
   "id": "a1cde950-37b2-4eea-bbe0-941940e95e59",
   "metadata": {},
   "outputs": [
    {
     "data": {
      "text/html": [
       "<div>\n",
       "<style scoped>\n",
       "    .dataframe tbody tr th:only-of-type {\n",
       "        vertical-align: middle;\n",
       "    }\n",
       "\n",
       "    .dataframe tbody tr th {\n",
       "        vertical-align: top;\n",
       "    }\n",
       "\n",
       "    .dataframe thead th {\n",
       "        text-align: right;\n",
       "    }\n",
       "</style>\n",
       "<table border=\"1\" class=\"dataframe\">\n",
       "  <thead>\n",
       "    <tr style=\"text-align: right;\">\n",
       "      <th></th>\n",
       "      <th>CreditScore</th>\n",
       "      <th>Geography</th>\n",
       "      <th>Gender</th>\n",
       "      <th>Age</th>\n",
       "      <th>Tenure</th>\n",
       "      <th>Balance</th>\n",
       "      <th>NumOfProducts</th>\n",
       "      <th>HasCrCard</th>\n",
       "      <th>IsActiveMember</th>\n",
       "      <th>EstimatedSalary</th>\n",
       "      <th>Exited</th>\n",
       "    </tr>\n",
       "  </thead>\n",
       "  <tbody>\n",
       "    <tr>\n",
       "      <th>0</th>\n",
       "      <td>619</td>\n",
       "      <td>France</td>\n",
       "      <td>Female</td>\n",
       "      <td>42</td>\n",
       "      <td>2</td>\n",
       "      <td>0.00</td>\n",
       "      <td>1</td>\n",
       "      <td>1</td>\n",
       "      <td>1</td>\n",
       "      <td>101348.88</td>\n",
       "      <td>1</td>\n",
       "    </tr>\n",
       "    <tr>\n",
       "      <th>1</th>\n",
       "      <td>608</td>\n",
       "      <td>Spain</td>\n",
       "      <td>Female</td>\n",
       "      <td>41</td>\n",
       "      <td>1</td>\n",
       "      <td>83807.86</td>\n",
       "      <td>1</td>\n",
       "      <td>0</td>\n",
       "      <td>1</td>\n",
       "      <td>112542.58</td>\n",
       "      <td>0</td>\n",
       "    </tr>\n",
       "    <tr>\n",
       "      <th>2</th>\n",
       "      <td>502</td>\n",
       "      <td>France</td>\n",
       "      <td>Female</td>\n",
       "      <td>42</td>\n",
       "      <td>8</td>\n",
       "      <td>159660.80</td>\n",
       "      <td>3</td>\n",
       "      <td>1</td>\n",
       "      <td>0</td>\n",
       "      <td>113931.57</td>\n",
       "      <td>1</td>\n",
       "    </tr>\n",
       "    <tr>\n",
       "      <th>3</th>\n",
       "      <td>699</td>\n",
       "      <td>France</td>\n",
       "      <td>Female</td>\n",
       "      <td>39</td>\n",
       "      <td>1</td>\n",
       "      <td>0.00</td>\n",
       "      <td>2</td>\n",
       "      <td>0</td>\n",
       "      <td>0</td>\n",
       "      <td>93826.63</td>\n",
       "      <td>0</td>\n",
       "    </tr>\n",
       "    <tr>\n",
       "      <th>4</th>\n",
       "      <td>850</td>\n",
       "      <td>Spain</td>\n",
       "      <td>Female</td>\n",
       "      <td>43</td>\n",
       "      <td>2</td>\n",
       "      <td>125510.82</td>\n",
       "      <td>1</td>\n",
       "      <td>1</td>\n",
       "      <td>1</td>\n",
       "      <td>79084.10</td>\n",
       "      <td>0</td>\n",
       "    </tr>\n",
       "  </tbody>\n",
       "</table>\n",
       "</div>"
      ],
      "text/plain": [
       "   CreditScore Geography  Gender  Age  Tenure    Balance  NumOfProducts  \\\n",
       "0          619    France  Female   42       2       0.00              1   \n",
       "1          608     Spain  Female   41       1   83807.86              1   \n",
       "2          502    France  Female   42       8  159660.80              3   \n",
       "3          699    France  Female   39       1       0.00              2   \n",
       "4          850     Spain  Female   43       2  125510.82              1   \n",
       "\n",
       "   HasCrCard  IsActiveMember  EstimatedSalary  Exited  \n",
       "0          1               1        101348.88       1  \n",
       "1          0               1        112542.58       0  \n",
       "2          1               0        113931.57       1  \n",
       "3          0               0         93826.63       0  \n",
       "4          1               1         79084.10       0  "
      ]
     },
     "execution_count": 8,
     "metadata": {},
     "output_type": "execute_result"
    }
   ],
   "source": [
    "df.head()"
   ]
  },
  {
   "cell_type": "markdown",
   "id": "5d8b8bb4-61eb-432a-88cb-2276adbd7b75",
   "metadata": {},
   "source": [
    "# Exploratory Data Analysis (EDA)\n",
    " - Univariate non-graphical: make observations of the population and understand sample distributions of a single variable. (e.g. the measure of spread (https://www.abs.gov.au/statistics/understanding-statistics/statistical-terms-and-concepts/measures-spread#:~:text=Measures%20of%20spread%20describe%20how,range%2C%20variance%20and%20standard%20deviation.), the measure of central tendency (https://www.scribbr.com/statistics/central-tendency/#:~:text=of%20central%20tendency%3F-,Measures%20of%20central%20tendency%20help%20you%20find%20the%20middle%2C%20or,in%20an%20ordered%20data%20set.), outlier detection)\n",
    " - Univariate graphical: graphical analysis on a single variable. (e.g. Histograms, Boxplots, Stem and leaf)\n",
    " - Multivariate non-graphical: techniques which show the relationship between two or more variables. (e.g. covariance, correlations)\n",
    " - Multivariate graphical: graphically show the relationship between two or more variables. (e.g. bar plots, scatterplots)"
   ]
  },
  {
   "cell_type": "code",
   "execution_count": 9,
   "id": "eee2bfe9-dd4c-4d66-9f92-a83e407d0e80",
   "metadata": {},
   "outputs": [
    {
     "data": {
      "text/plain": [
       "<seaborn.axisgrid.FacetGrid at 0x23568932ee0>"
      ]
     },
     "execution_count": 9,
     "metadata": {},
     "output_type": "execute_result"
    },
    {
     "data": {
      "image/png": "[encoded data removed]",
      "text/plain": [
       "<Figure size 360x360 with 1 Axes>"
      ]
     },
     "metadata": {},
     "output_type": "display_data"
    }
   ],
   "source": [
    "sns.displot(df, x='CreditScore',bins=60)"
   ]
  },
  {
   "cell_type": "code",
   "execution_count": 10,
   "id": "1cbefffe-98ec-4002-b4f6-736abd87557b",
   "metadata": {},
   "outputs": [
    {
     "data": {
      "text/plain": [
       "<seaborn.axisgrid.FacetGrid at 0x2356ab04d90>"
      ]
     },
     "execution_count": 10,
     "metadata": {},
     "output_type": "execute_result"
    },
    {
     "data": {
      "image/png": "[encoded data removed]",
      "text/plain": [
       "<Figure size 360x360 with 1 Axes>"
      ]
     },
     "metadata": {},
     "output_type": "display_data"
    }
   ],
   "source": [
    "sns.displot(df, x='Balance')"
   ]
  },
  {
   "cell_type": "code",
   "execution_count": 11,
   "id": "afda6642-6e33-48ad-b796-cbdce1ef9c8c",
   "metadata": {
    "tags": []
   },
   "outputs": [
    {
     "data": {
      "text/plain": [
       "<seaborn.axisgrid.FacetGrid at 0x2356ab92b80>"
      ]
     },
     "execution_count": 11,
     "metadata": {},
     "output_type": "execute_result"
    },
    {
     "data": {
      "image/png": "[encoded data removed]",
      "text/plain": [
       "<Figure size 360x360 with 1 Axes>"
      ]
     },
     "metadata": {},
     "output_type": "display_data"
    }
   ],
   "source": [
    "sns.displot(df, x='EstimatedSalary', kind='kde')"
   ]
  },
  {
   "cell_type": "markdown",
   "id": "1e9207d2-1c19-4d6a-ad04-495beaa7a3bc",
   "metadata": {},
   "source": [
    "Metoda usuwania outlierow na rozkladow normalnych i normalno podobnych"
   ]
  },
  {
   "cell_type": "code",
   "execution_count": 12,
   "id": "113a517d-0378-4372-9b1f-edb606c49681",
   "metadata": {},
   "outputs": [],
   "source": [
    "from numpy import mean,std\n",
    "def std_outlier(data):\n",
    "    var = data\n",
    "    var_mean, var_std = mean(var), std(var)\n",
    "    cut_off = var_std*3\n",
    "    lower, upper = var_mean-cut_off, var_mean+cut_off\n",
    "    outliers = [x for x in var if x < lower or x > upper]\n",
    "    print('Identified outliers: %d' % len(outliers))\n",
    "    outliers_removed = [x for x in var if x >= lower and x <= upper]\n",
    "    print('Removed outliers: %d' % len(outliers_removed))\n",
    "    return [outliers, outliers_removed]"
   ]
  },
  {
   "cell_type": "markdown",
   "id": "4bebe474-5f4f-40c1-9489-061ac78c801f",
   "metadata": {},
   "source": [
    "Metoda usuwania outlierow dla danych ktore nie pochodza z rozkladu normalnego"
   ]
  },
  {
   "cell_type": "code",
   "execution_count": 13,
   "id": "1d7d3864-77dd-4a30-9272-9cd0589d57f2",
   "metadata": {},
   "outputs": [],
   "source": [
    "from numpy import percentile\n",
    "def iqr_outlier(data):\n",
    "    var = data\n",
    "    q25, q75 = percentile(var, 25), percentile(var, 75)\n",
    "    iqr = q75-q25\n",
    "    print('Percentiles: 25th=%.3f, 75th=%.3f, IQR=%.3f' % (q25, q75, iqr))\n",
    "    cut_off = iqr * 1.5\n",
    "    lower, upper = q25 - cut_off, q75 + cut_off\n",
    "    outliers = [x for x in var if x < lower or x > upper]\n",
    "    print('Identified outliers: %d' % len(outliers))\n",
    "    outliers_removed = [x for x in var if x >= lower and x <= upper]\n",
    "    print('Non-outlier observations: %d' % len(outliers_removed))\n",
    "    return [outliers, outliers_removed]"
   ]
  },
  {
   "cell_type": "code",
   "execution_count": 14,
   "id": "c6d8abf4-ec06-46ea-9e03-a901ec0b542a",
   "metadata": {},
   "outputs": [],
   "source": [
    "df_test=df"
   ]
  },
  {
   "cell_type": "code",
   "execution_count": 15,
   "id": "92f4604a-09a1-47fa-8d25-eca274bac893",
   "metadata": {},
   "outputs": [
    {
     "name": "stdout",
     "output_type": "stream",
     "text": [
      "Percentiles: 25th=584.000, 75th=718.000, IQR=134.000\n",
      "Identified outliers: 15\n",
      "Non-outlier observations: 9985\n"
     ]
    }
   ],
   "source": [
    "df_test=df_test[(df_test['CreditScore'].isin(iqr_outlier(df_test['CreditScore'])[1]))]"
   ]
  },
  {
   "cell_type": "code",
   "execution_count": 16,
   "id": "4e961eae-5cd2-4d7b-96b4-01dbf765632d",
   "metadata": {},
   "outputs": [
    {
     "name": "stdout",
     "output_type": "stream",
     "text": [
      "Percentiles: 25th=32.000, 75th=44.000, IQR=12.000\n",
      "Identified outliers: 359\n",
      "Non-outlier observations: 9626\n"
     ]
    }
   ],
   "source": [
    "df_test=df_test[(df_test['Age'].isin(iqr_outlier(df_test['Age'])[1]))]"
   ]
  },
  {
   "cell_type": "code",
   "execution_count": 17,
   "id": "76a70041-8177-4863-bbd4-7b5b07b93ace",
   "metadata": {},
   "outputs": [
    {
     "data": {
      "text/html": [
       "<div>\n",
       "<style scoped>\n",
       "    .dataframe tbody tr th:only-of-type {\n",
       "        vertical-align: middle;\n",
       "    }\n",
       "\n",
       "    .dataframe tbody tr th {\n",
       "        vertical-align: top;\n",
       "    }\n",
       "\n",
       "    .dataframe thead th {\n",
       "        text-align: right;\n",
       "    }\n",
       "</style>\n",
       "<table border=\"1\" class=\"dataframe\">\n",
       "  <thead>\n",
       "    <tr style=\"text-align: right;\">\n",
       "      <th></th>\n",
       "      <th>CreditScore</th>\n",
       "      <th>Geography</th>\n",
       "      <th>Gender</th>\n",
       "      <th>Age</th>\n",
       "      <th>Tenure</th>\n",
       "      <th>Balance</th>\n",
       "      <th>NumOfProducts</th>\n",
       "      <th>HasCrCard</th>\n",
       "      <th>IsActiveMember</th>\n",
       "      <th>EstimatedSalary</th>\n",
       "      <th>Exited</th>\n",
       "    </tr>\n",
       "  </thead>\n",
       "  <tbody>\n",
       "    <tr>\n",
       "      <th>0</th>\n",
       "      <td>619</td>\n",
       "      <td>France</td>\n",
       "      <td>Female</td>\n",
       "      <td>42</td>\n",
       "      <td>2</td>\n",
       "      <td>0.00</td>\n",
       "      <td>1</td>\n",
       "      <td>1</td>\n",
       "      <td>1</td>\n",
       "      <td>101348.88</td>\n",
       "      <td>1</td>\n",
       "    </tr>\n",
       "    <tr>\n",
       "      <th>1</th>\n",
       "      <td>608</td>\n",
       "      <td>Spain</td>\n",
       "      <td>Female</td>\n",
       "      <td>41</td>\n",
       "      <td>1</td>\n",
       "      <td>83807.86</td>\n",
       "      <td>1</td>\n",
       "      <td>0</td>\n",
       "      <td>1</td>\n",
       "      <td>112542.58</td>\n",
       "      <td>0</td>\n",
       "    </tr>\n",
       "    <tr>\n",
       "      <th>2</th>\n",
       "      <td>502</td>\n",
       "      <td>France</td>\n",
       "      <td>Female</td>\n",
       "      <td>42</td>\n",
       "      <td>8</td>\n",
       "      <td>159660.80</td>\n",
       "      <td>3</td>\n",
       "      <td>1</td>\n",
       "      <td>0</td>\n",
       "      <td>113931.57</td>\n",
       "      <td>1</td>\n",
       "    </tr>\n",
       "    <tr>\n",
       "      <th>3</th>\n",
       "      <td>699</td>\n",
       "      <td>France</td>\n",
       "      <td>Female</td>\n",
       "      <td>39</td>\n",
       "      <td>1</td>\n",
       "      <td>0.00</td>\n",
       "      <td>2</td>\n",
       "      <td>0</td>\n",
       "      <td>0</td>\n",
       "      <td>93826.63</td>\n",
       "      <td>0</td>\n",
       "    </tr>\n",
       "    <tr>\n",
       "      <th>4</th>\n",
       "      <td>850</td>\n",
       "      <td>Spain</td>\n",
       "      <td>Female</td>\n",
       "      <td>43</td>\n",
       "      <td>2</td>\n",
       "      <td>125510.82</td>\n",
       "      <td>1</td>\n",
       "      <td>1</td>\n",
       "      <td>1</td>\n",
       "      <td>79084.10</td>\n",
       "      <td>0</td>\n",
       "    </tr>\n",
       "    <tr>\n",
       "      <th>...</th>\n",
       "      <td>...</td>\n",
       "      <td>...</td>\n",
       "      <td>...</td>\n",
       "      <td>...</td>\n",
       "      <td>...</td>\n",
       "      <td>...</td>\n",
       "      <td>...</td>\n",
       "      <td>...</td>\n",
       "      <td>...</td>\n",
       "      <td>...</td>\n",
       "      <td>...</td>\n",
       "    </tr>\n",
       "    <tr>\n",
       "      <th>9995</th>\n",
       "      <td>771</td>\n",
       "      <td>France</td>\n",
       "      <td>Male</td>\n",
       "      <td>39</td>\n",
       "      <td>5</td>\n",
       "      <td>0.00</td>\n",
       "      <td>2</td>\n",
       "      <td>1</td>\n",
       "      <td>0</td>\n",
       "      <td>96270.64</td>\n",
       "      <td>0</td>\n",
       "    </tr>\n",
       "    <tr>\n",
       "      <th>9996</th>\n",
       "      <td>516</td>\n",
       "      <td>France</td>\n",
       "      <td>Male</td>\n",
       "      <td>35</td>\n",
       "      <td>10</td>\n",
       "      <td>57369.61</td>\n",
       "      <td>1</td>\n",
       "      <td>1</td>\n",
       "      <td>1</td>\n",
       "      <td>101699.77</td>\n",
       "      <td>0</td>\n",
       "    </tr>\n",
       "    <tr>\n",
       "      <th>9997</th>\n",
       "      <td>709</td>\n",
       "      <td>France</td>\n",
       "      <td>Female</td>\n",
       "      <td>36</td>\n",
       "      <td>7</td>\n",
       "      <td>0.00</td>\n",
       "      <td>1</td>\n",
       "      <td>0</td>\n",
       "      <td>1</td>\n",
       "      <td>42085.58</td>\n",
       "      <td>1</td>\n",
       "    </tr>\n",
       "    <tr>\n",
       "      <th>9998</th>\n",
       "      <td>772</td>\n",
       "      <td>Germany</td>\n",
       "      <td>Male</td>\n",
       "      <td>42</td>\n",
       "      <td>3</td>\n",
       "      <td>75075.31</td>\n",
       "      <td>2</td>\n",
       "      <td>1</td>\n",
       "      <td>0</td>\n",
       "      <td>92888.52</td>\n",
       "      <td>1</td>\n",
       "    </tr>\n",
       "    <tr>\n",
       "      <th>9999</th>\n",
       "      <td>792</td>\n",
       "      <td>France</td>\n",
       "      <td>Female</td>\n",
       "      <td>28</td>\n",
       "      <td>4</td>\n",
       "      <td>130142.79</td>\n",
       "      <td>1</td>\n",
       "      <td>1</td>\n",
       "      <td>0</td>\n",
       "      <td>38190.78</td>\n",
       "      <td>0</td>\n",
       "    </tr>\n",
       "  </tbody>\n",
       "</table>\n",
       "<p>9626 rows × 11 columns</p>\n",
       "</div>"
      ],
      "text/plain": [
       "      CreditScore Geography  Gender  Age  Tenure    Balance  NumOfProducts  \\\n",
       "0             619    France  Female   42       2       0.00              1   \n",
       "1             608     Spain  Female   41       1   83807.86              1   \n",
       "2             502    France  Female   42       8  159660.80              3   \n",
       "3             699    France  Female   39       1       0.00              2   \n",
       "4             850     Spain  Female   43       2  125510.82              1   \n",
       "...           ...       ...     ...  ...     ...        ...            ...   \n",
       "9995          771    France    Male   39       5       0.00              2   \n",
       "9996          516    France    Male   35      10   57369.61              1   \n",
       "9997          709    France  Female   36       7       0.00              1   \n",
       "9998          772   Germany    Male   42       3   75075.31              2   \n",
       "9999          792    France  Female   28       4  130142.79              1   \n",
       "\n",
       "      HasCrCard  IsActiveMember  EstimatedSalary  Exited  \n",
       "0             1               1        101348.88       1  \n",
       "1             0               1        112542.58       0  \n",
       "2             1               0        113931.57       1  \n",
       "3             0               0         93826.63       0  \n",
       "4             1               1         79084.10       0  \n",
       "...         ...             ...              ...     ...  \n",
       "9995          1               0         96270.64       0  \n",
       "9996          1               1        101699.77       0  \n",
       "9997          0               1         42085.58       1  \n",
       "9998          1               0         92888.52       1  \n",
       "9999          1               0         38190.78       0  \n",
       "\n",
       "[9626 rows x 11 columns]"
      ]
     },
     "execution_count": 17,
     "metadata": {},
     "output_type": "execute_result"
    }
   ],
   "source": [
    "df_test"
   ]
  },
  {
   "cell_type": "code",
   "execution_count": 18,
   "id": "58c84061-0363-4a68-aada-ae99fdffbbc1",
   "metadata": {},
   "outputs": [
    {
     "name": "stdout",
     "output_type": "stream",
     "text": [
      "Percentiles: 25th=0.000, 75th=127644.240, IQR=127644.240\n",
      "Identified outliers: 0\n",
      "Non-outlier observations: 10000\n"
     ]
    },
    {
     "data": {
      "text/plain": [
       "[]"
      ]
     },
     "execution_count": 18,
     "metadata": {},
     "output_type": "execute_result"
    }
   ],
   "source": [
    "iqr_outlier(df['Balance'])[0]"
   ]
  },
  {
   "cell_type": "code",
   "execution_count": 19,
   "id": "5c2a7a1c-8b04-4f51-8cab-f5a381203e91",
   "metadata": {},
   "outputs": [
    {
     "name": "stdout",
     "output_type": "stream",
     "text": [
      "Percentiles: 25th=51002.110, 75th=149388.247, IQR=98386.137\n",
      "Identified outliers: 0\n",
      "Non-outlier observations: 10000\n"
     ]
    },
    {
     "data": {
      "text/plain": [
       "[]"
      ]
     },
     "execution_count": 19,
     "metadata": {},
     "output_type": "execute_result"
    }
   ],
   "source": [
    "iqr_outlier(df['EstimatedSalary'])[0]"
   ]
  },
  {
   "cell_type": "code",
   "execution_count": 20,
   "id": "c5c2d5d6-771f-4b54-b326-9762e84e48d1",
   "metadata": {},
   "outputs": [
    {
     "data": {
      "text/html": [
       "<div>\n",
       "<style scoped>\n",
       "    .dataframe tbody tr th:only-of-type {\n",
       "        vertical-align: middle;\n",
       "    }\n",
       "\n",
       "    .dataframe tbody tr th {\n",
       "        vertical-align: top;\n",
       "    }\n",
       "\n",
       "    .dataframe thead th {\n",
       "        text-align: right;\n",
       "    }\n",
       "</style>\n",
       "<table border=\"1\" class=\"dataframe\">\n",
       "  <thead>\n",
       "    <tr style=\"text-align: right;\">\n",
       "      <th></th>\n",
       "      <th>CreditScore</th>\n",
       "      <th>Age</th>\n",
       "      <th>Tenure</th>\n",
       "      <th>Balance</th>\n",
       "      <th>NumOfProducts</th>\n",
       "      <th>HasCrCard</th>\n",
       "      <th>IsActiveMember</th>\n",
       "      <th>EstimatedSalary</th>\n",
       "      <th>Exited</th>\n",
       "    </tr>\n",
       "  </thead>\n",
       "  <tbody>\n",
       "    <tr>\n",
       "      <th>count</th>\n",
       "      <td>10000.000000</td>\n",
       "      <td>10000.000000</td>\n",
       "      <td>10000.000000</td>\n",
       "      <td>10000.000000</td>\n",
       "      <td>10000.000000</td>\n",
       "      <td>10000.00000</td>\n",
       "      <td>10000.000000</td>\n",
       "      <td>10000.000000</td>\n",
       "      <td>10000.000000</td>\n",
       "    </tr>\n",
       "    <tr>\n",
       "      <th>mean</th>\n",
       "      <td>650.528800</td>\n",
       "      <td>38.921800</td>\n",
       "      <td>5.012800</td>\n",
       "      <td>76485.889288</td>\n",
       "      <td>1.530200</td>\n",
       "      <td>0.70550</td>\n",
       "      <td>0.515100</td>\n",
       "      <td>100090.239881</td>\n",
       "      <td>0.203700</td>\n",
       "    </tr>\n",
       "    <tr>\n",
       "      <th>std</th>\n",
       "      <td>96.653299</td>\n",
       "      <td>10.487806</td>\n",
       "      <td>2.892174</td>\n",
       "      <td>62397.405202</td>\n",
       "      <td>0.581654</td>\n",
       "      <td>0.45584</td>\n",
       "      <td>0.499797</td>\n",
       "      <td>57510.492818</td>\n",
       "      <td>0.402769</td>\n",
       "    </tr>\n",
       "    <tr>\n",
       "      <th>min</th>\n",
       "      <td>350.000000</td>\n",
       "      <td>18.000000</td>\n",
       "      <td>0.000000</td>\n",
       "      <td>0.000000</td>\n",
       "      <td>1.000000</td>\n",
       "      <td>0.00000</td>\n",
       "      <td>0.000000</td>\n",
       "      <td>11.580000</td>\n",
       "      <td>0.000000</td>\n",
       "    </tr>\n",
       "    <tr>\n",
       "      <th>25%</th>\n",
       "      <td>584.000000</td>\n",
       "      <td>32.000000</td>\n",
       "      <td>3.000000</td>\n",
       "      <td>0.000000</td>\n",
       "      <td>1.000000</td>\n",
       "      <td>0.00000</td>\n",
       "      <td>0.000000</td>\n",
       "      <td>51002.110000</td>\n",
       "      <td>0.000000</td>\n",
       "    </tr>\n",
       "    <tr>\n",
       "      <th>50%</th>\n",
       "      <td>652.000000</td>\n",
       "      <td>37.000000</td>\n",
       "      <td>5.000000</td>\n",
       "      <td>97198.540000</td>\n",
       "      <td>1.000000</td>\n",
       "      <td>1.00000</td>\n",
       "      <td>1.000000</td>\n",
       "      <td>100193.915000</td>\n",
       "      <td>0.000000</td>\n",
       "    </tr>\n",
       "    <tr>\n",
       "      <th>75%</th>\n",
       "      <td>718.000000</td>\n",
       "      <td>44.000000</td>\n",
       "      <td>7.000000</td>\n",
       "      <td>127644.240000</td>\n",
       "      <td>2.000000</td>\n",
       "      <td>1.00000</td>\n",
       "      <td>1.000000</td>\n",
       "      <td>149388.247500</td>\n",
       "      <td>0.000000</td>\n",
       "    </tr>\n",
       "    <tr>\n",
       "      <th>max</th>\n",
       "      <td>850.000000</td>\n",
       "      <td>92.000000</td>\n",
       "      <td>10.000000</td>\n",
       "      <td>250898.090000</td>\n",
       "      <td>4.000000</td>\n",
       "      <td>1.00000</td>\n",
       "      <td>1.000000</td>\n",
       "      <td>199992.480000</td>\n",
       "      <td>1.000000</td>\n",
       "    </tr>\n",
       "  </tbody>\n",
       "</table>\n",
       "</div>"
      ],
      "text/plain": [
       "        CreditScore           Age        Tenure        Balance  NumOfProducts  \\\n",
       "count  10000.000000  10000.000000  10000.000000   10000.000000   10000.000000   \n",
       "mean     650.528800     38.921800      5.012800   76485.889288       1.530200   \n",
       "std       96.653299     10.487806      2.892174   62397.405202       0.581654   \n",
       "min      350.000000     18.000000      0.000000       0.000000       1.000000   \n",
       "25%      584.000000     32.000000      3.000000       0.000000       1.000000   \n",
       "50%      652.000000     37.000000      5.000000   97198.540000       1.000000   \n",
       "75%      718.000000     44.000000      7.000000  127644.240000       2.000000   \n",
       "max      850.000000     92.000000     10.000000  250898.090000       4.000000   \n",
       "\n",
       "         HasCrCard  IsActiveMember  EstimatedSalary        Exited  \n",
       "count  10000.00000    10000.000000     10000.000000  10000.000000  \n",
       "mean       0.70550        0.515100    100090.239881      0.203700  \n",
       "std        0.45584        0.499797     57510.492818      0.402769  \n",
       "min        0.00000        0.000000        11.580000      0.000000  \n",
       "25%        0.00000        0.000000     51002.110000      0.000000  \n",
       "50%        1.00000        1.000000    100193.915000      0.000000  \n",
       "75%        1.00000        1.000000    149388.247500      0.000000  \n",
       "max        1.00000        1.000000    199992.480000      1.000000  "
      ]
     },
     "execution_count": 20,
     "metadata": {},
     "output_type": "execute_result"
    }
   ],
   "source": [
    "df.describe()"
   ]
  },
  {
   "cell_type": "code",
   "execution_count": 21,
   "id": "c125a367-b829-4445-87bb-7290ad01bc7f",
   "metadata": {},
   "outputs": [
    {
     "data": {
      "text/plain": [
       "<seaborn.axisgrid.FacetGrid at 0x2356ac6a910>"
      ]
     },
     "execution_count": 21,
     "metadata": {},
     "output_type": "execute_result"
    },
    {
     "data": {
      "image/png": "[encoded data removed]",
      "text/plain": [
       "<Figure size 360x360 with 1 Axes>"
      ]
     },
     "metadata": {},
     "output_type": "display_data"
    }
   ],
   "source": [
    "sns.displot(df, x='Geography')"
   ]
  },
  {
   "cell_type": "code",
   "execution_count": 22,
   "id": "fc21abe4-3910-4128-ac3e-05ef97453dfd",
   "metadata": {},
   "outputs": [
    {
     "data": {
      "text/plain": [
       "<seaborn.axisgrid.FacetGrid at 0x2356c10f850>"
      ]
     },
     "execution_count": 22,
     "metadata": {},
     "output_type": "execute_result"
    },
    {
     "data": {
      "image/png": "[encoded data removed]",
      "text/plain": [
       "<Figure size 360x360 with 1 Axes>"
      ]
     },
     "metadata": {},
     "output_type": "display_data"
    }
   ],
   "source": [
    "sns.displot(df, x='Gender')"
   ]
  },
  {
   "cell_type": "code",
   "execution_count": 23,
   "id": "2fae35f6-665c-49f6-985b-830e34aba87e",
   "metadata": {},
   "outputs": [
    {
     "data": {
      "text/html": [
       "<div>\n",
       "<style scoped>\n",
       "    .dataframe tbody tr th:only-of-type {\n",
       "        vertical-align: middle;\n",
       "    }\n",
       "\n",
       "    .dataframe tbody tr th {\n",
       "        vertical-align: top;\n",
       "    }\n",
       "\n",
       "    .dataframe thead th {\n",
       "        text-align: right;\n",
       "    }\n",
       "</style>\n",
       "<table border=\"1\" class=\"dataframe\">\n",
       "  <thead>\n",
       "    <tr style=\"text-align: right;\">\n",
       "      <th></th>\n",
       "      <th>CreditScore</th>\n",
       "      <th>Geography</th>\n",
       "      <th>Gender</th>\n",
       "      <th>Age</th>\n",
       "      <th>Tenure</th>\n",
       "      <th>Balance</th>\n",
       "      <th>NumOfProducts</th>\n",
       "      <th>HasCrCard</th>\n",
       "      <th>IsActiveMember</th>\n",
       "      <th>EstimatedSalary</th>\n",
       "      <th>Exited</th>\n",
       "      <th>AgeGroup</th>\n",
       "    </tr>\n",
       "  </thead>\n",
       "  <tbody>\n",
       "    <tr>\n",
       "      <th>0</th>\n",
       "      <td>619</td>\n",
       "      <td>France</td>\n",
       "      <td>Female</td>\n",
       "      <td>42</td>\n",
       "      <td>2</td>\n",
       "      <td>0.00</td>\n",
       "      <td>1</td>\n",
       "      <td>1</td>\n",
       "      <td>1</td>\n",
       "      <td>101348.88</td>\n",
       "      <td>1</td>\n",
       "      <td>MiddleAged</td>\n",
       "    </tr>\n",
       "    <tr>\n",
       "      <th>1</th>\n",
       "      <td>608</td>\n",
       "      <td>Spain</td>\n",
       "      <td>Female</td>\n",
       "      <td>41</td>\n",
       "      <td>1</td>\n",
       "      <td>83807.86</td>\n",
       "      <td>1</td>\n",
       "      <td>0</td>\n",
       "      <td>1</td>\n",
       "      <td>112542.58</td>\n",
       "      <td>0</td>\n",
       "      <td>MiddleAged</td>\n",
       "    </tr>\n",
       "    <tr>\n",
       "      <th>2</th>\n",
       "      <td>502</td>\n",
       "      <td>France</td>\n",
       "      <td>Female</td>\n",
       "      <td>42</td>\n",
       "      <td>8</td>\n",
       "      <td>159660.80</td>\n",
       "      <td>3</td>\n",
       "      <td>1</td>\n",
       "      <td>0</td>\n",
       "      <td>113931.57</td>\n",
       "      <td>1</td>\n",
       "      <td>MiddleAged</td>\n",
       "    </tr>\n",
       "    <tr>\n",
       "      <th>3</th>\n",
       "      <td>699</td>\n",
       "      <td>France</td>\n",
       "      <td>Female</td>\n",
       "      <td>39</td>\n",
       "      <td>1</td>\n",
       "      <td>0.00</td>\n",
       "      <td>2</td>\n",
       "      <td>0</td>\n",
       "      <td>0</td>\n",
       "      <td>93826.63</td>\n",
       "      <td>0</td>\n",
       "      <td>MiddleAged</td>\n",
       "    </tr>\n",
       "    <tr>\n",
       "      <th>4</th>\n",
       "      <td>850</td>\n",
       "      <td>Spain</td>\n",
       "      <td>Female</td>\n",
       "      <td>43</td>\n",
       "      <td>2</td>\n",
       "      <td>125510.82</td>\n",
       "      <td>1</td>\n",
       "      <td>1</td>\n",
       "      <td>1</td>\n",
       "      <td>79084.10</td>\n",
       "      <td>0</td>\n",
       "      <td>MiddleAged</td>\n",
       "    </tr>\n",
       "  </tbody>\n",
       "</table>\n",
       "</div>"
      ],
      "text/plain": [
       "   CreditScore Geography  Gender  Age  Tenure    Balance  NumOfProducts  \\\n",
       "0          619    France  Female   42       2       0.00              1   \n",
       "1          608     Spain  Female   41       1   83807.86              1   \n",
       "2          502    France  Female   42       8  159660.80              3   \n",
       "3          699    France  Female   39       1       0.00              2   \n",
       "4          850     Spain  Female   43       2  125510.82              1   \n",
       "\n",
       "   HasCrCard  IsActiveMember  EstimatedSalary  Exited    AgeGroup  \n",
       "0          1               1        101348.88       1  MiddleAged  \n",
       "1          0               1        112542.58       0  MiddleAged  \n",
       "2          1               0        113931.57       1  MiddleAged  \n",
       "3          0               0         93826.63       0  MiddleAged  \n",
       "4          1               1         79084.10       0  MiddleAged  "
      ]
     },
     "execution_count": 23,
     "metadata": {},
     "output_type": "execute_result"
    }
   ],
   "source": [
    "bins = [17, 32, 59, 122]\n",
    "labels = ['Young', 'MiddleAged', 'Old']\n",
    "df_eda = df\n",
    "df_eda['AgeGroup'] = pd.cut(df['Age'], bins=bins, labels=labels)\n",
    "df_eda.head()"
   ]
  },
  {
   "cell_type": "code",
   "execution_count": 24,
   "id": "d5de99ca-ee24-49b0-a822-0213ec0f56d0",
   "metadata": {},
   "outputs": [
    {
     "data": {
      "text/plain": [
       "<AxesSubplot:xlabel='AgeGroup', ylabel='count'>"
      ]
     },
     "execution_count": 24,
     "metadata": {},
     "output_type": "execute_result"
    },
    {
     "data": {
      "image/png": "[encoded data removed]",
      "text/plain": [
       "<Figure size 864x576 with 1 Axes>"
      ]
     },
     "metadata": {},
     "output_type": "display_data"
    }
   ],
   "source": [
    "plt.figure(figsize=(12,8))\n",
    "sns.countplot(data=df_eda, x='AgeGroup', hue=df_eda['Gender'])"
   ]
  },
  {
   "cell_type": "markdown",
   "id": "c958a266-759d-469f-bd29-56930da31d95",
   "metadata": {},
   "source": [
    "Sprawdzamy czy w tabeli znajdują się jakieś wartości 'null'"
   ]
  },
  {
   "cell_type": "code",
   "execution_count": 25,
   "id": "7aa0a2a9-491d-4e6c-ab00-d28a41cb70b3",
   "metadata": {},
   "outputs": [
    {
     "data": {
      "text/plain": [
       "CreditScore        0\n",
       "Geography          0\n",
       "Gender             0\n",
       "Age                0\n",
       "Tenure             0\n",
       "Balance            0\n",
       "NumOfProducts      0\n",
       "HasCrCard          0\n",
       "IsActiveMember     0\n",
       "EstimatedSalary    0\n",
       "Exited             0\n",
       "AgeGroup           0\n",
       "dtype: int64"
      ]
     },
     "execution_count": 25,
     "metadata": {},
     "output_type": "execute_result"
    }
   ],
   "source": [
    "df.isnull().sum()"
   ]
  },
  {
   "cell_type": "code",
   "execution_count": 26,
   "id": "61e2bc64-3511-4e74-ae9d-32350efd9a9a",
   "metadata": {},
   "outputs": [
    {
     "data": {
      "text/html": [
       "<div>\n",
       "<style scoped>\n",
       "    .dataframe tbody tr th:only-of-type {\n",
       "        vertical-align: middle;\n",
       "    }\n",
       "\n",
       "    .dataframe tbody tr th {\n",
       "        vertical-align: top;\n",
       "    }\n",
       "\n",
       "    .dataframe thead th {\n",
       "        text-align: right;\n",
       "    }\n",
       "</style>\n",
       "<table border=\"1\" class=\"dataframe\">\n",
       "  <thead>\n",
       "    <tr style=\"text-align: right;\">\n",
       "      <th></th>\n",
       "      <th>CreditScore</th>\n",
       "      <th>Age</th>\n",
       "      <th>Tenure</th>\n",
       "      <th>Balance</th>\n",
       "      <th>NumOfProducts</th>\n",
       "      <th>HasCrCard</th>\n",
       "      <th>IsActiveMember</th>\n",
       "      <th>EstimatedSalary</th>\n",
       "      <th>Exited</th>\n",
       "      <th>Geography_France</th>\n",
       "      <th>Geography_Germany</th>\n",
       "      <th>Geography_Spain</th>\n",
       "      <th>Gender_Female</th>\n",
       "      <th>Gender_Male</th>\n",
       "      <th>AgeGroup_Young</th>\n",
       "      <th>AgeGroup_MiddleAged</th>\n",
       "      <th>AgeGroup_Old</th>\n",
       "    </tr>\n",
       "  </thead>\n",
       "  <tbody>\n",
       "    <tr>\n",
       "      <th>0</th>\n",
       "      <td>619</td>\n",
       "      <td>42</td>\n",
       "      <td>2</td>\n",
       "      <td>0.00</td>\n",
       "      <td>1</td>\n",
       "      <td>1</td>\n",
       "      <td>1</td>\n",
       "      <td>101348.88</td>\n",
       "      <td>1</td>\n",
       "      <td>1</td>\n",
       "      <td>0</td>\n",
       "      <td>0</td>\n",
       "      <td>1</td>\n",
       "      <td>0</td>\n",
       "      <td>0</td>\n",
       "      <td>1</td>\n",
       "      <td>0</td>\n",
       "    </tr>\n",
       "    <tr>\n",
       "      <th>1</th>\n",
       "      <td>608</td>\n",
       "      <td>41</td>\n",
       "      <td>1</td>\n",
       "      <td>83807.86</td>\n",
       "      <td>1</td>\n",
       "      <td>0</td>\n",
       "      <td>1</td>\n",
       "      <td>112542.58</td>\n",
       "      <td>0</td>\n",
       "      <td>0</td>\n",
       "      <td>0</td>\n",
       "      <td>1</td>\n",
       "      <td>1</td>\n",
       "      <td>0</td>\n",
       "      <td>0</td>\n",
       "      <td>1</td>\n",
       "      <td>0</td>\n",
       "    </tr>\n",
       "    <tr>\n",
       "      <th>2</th>\n",
       "      <td>502</td>\n",
       "      <td>42</td>\n",
       "      <td>8</td>\n",
       "      <td>159660.80</td>\n",
       "      <td>3</td>\n",
       "      <td>1</td>\n",
       "      <td>0</td>\n",
       "      <td>113931.57</td>\n",
       "      <td>1</td>\n",
       "      <td>1</td>\n",
       "      <td>0</td>\n",
       "      <td>0</td>\n",
       "      <td>1</td>\n",
       "      <td>0</td>\n",
       "      <td>0</td>\n",
       "      <td>1</td>\n",
       "      <td>0</td>\n",
       "    </tr>\n",
       "    <tr>\n",
       "      <th>3</th>\n",
       "      <td>699</td>\n",
       "      <td>39</td>\n",
       "      <td>1</td>\n",
       "      <td>0.00</td>\n",
       "      <td>2</td>\n",
       "      <td>0</td>\n",
       "      <td>0</td>\n",
       "      <td>93826.63</td>\n",
       "      <td>0</td>\n",
       "      <td>1</td>\n",
       "      <td>0</td>\n",
       "      <td>0</td>\n",
       "      <td>1</td>\n",
       "      <td>0</td>\n",
       "      <td>0</td>\n",
       "      <td>1</td>\n",
       "      <td>0</td>\n",
       "    </tr>\n",
       "    <tr>\n",
       "      <th>4</th>\n",
       "      <td>850</td>\n",
       "      <td>43</td>\n",
       "      <td>2</td>\n",
       "      <td>125510.82</td>\n",
       "      <td>1</td>\n",
       "      <td>1</td>\n",
       "      <td>1</td>\n",
       "      <td>79084.10</td>\n",
       "      <td>0</td>\n",
       "      <td>0</td>\n",
       "      <td>0</td>\n",
       "      <td>1</td>\n",
       "      <td>1</td>\n",
       "      <td>0</td>\n",
       "      <td>0</td>\n",
       "      <td>1</td>\n",
       "      <td>0</td>\n",
       "    </tr>\n",
       "  </tbody>\n",
       "</table>\n",
       "</div>"
      ],
      "text/plain": [
       "   CreditScore  Age  Tenure    Balance  NumOfProducts  HasCrCard  \\\n",
       "0          619   42       2       0.00              1          1   \n",
       "1          608   41       1   83807.86              1          0   \n",
       "2          502   42       8  159660.80              3          1   \n",
       "3          699   39       1       0.00              2          0   \n",
       "4          850   43       2  125510.82              1          1   \n",
       "\n",
       "   IsActiveMember  EstimatedSalary  Exited  Geography_France  \\\n",
       "0               1        101348.88       1                 1   \n",
       "1               1        112542.58       0                 0   \n",
       "2               0        113931.57       1                 1   \n",
       "3               0         93826.63       0                 1   \n",
       "4               1         79084.10       0                 0   \n",
       "\n",
       "   Geography_Germany  Geography_Spain  Gender_Female  Gender_Male  \\\n",
       "0                  0                0              1            0   \n",
       "1                  0                1              1            0   \n",
       "2                  0                0              1            0   \n",
       "3                  0                0              1            0   \n",
       "4                  0                1              1            0   \n",
       "\n",
       "   AgeGroup_Young  AgeGroup_MiddleAged  AgeGroup_Old  \n",
       "0               0                    1             0  \n",
       "1               0                    1             0  \n",
       "2               0                    1             0  \n",
       "3               0                    1             0  \n",
       "4               0                    1             0  "
      ]
     },
     "execution_count": 26,
     "metadata": {},
     "output_type": "execute_result"
    }
   ],
   "source": [
    "df_dummies = pd.get_dummies(df)\n",
    "df_dummies.head()"
   ]
  },
  {
   "cell_type": "code",
   "execution_count": 27,
   "id": "a675f020-ce4f-46e9-b118-c4cd3484aa49",
   "metadata": {},
   "outputs": [
    {
     "data": {
      "text/plain": [
       "<AxesSubplot:>"
      ]
     },
     "execution_count": 27,
     "metadata": {},
     "output_type": "execute_result"
    },
    {
     "data": {
      "image/png": "[encoded data removed]",
      "text/plain": [
       "<Figure size 432x288 with 2 Axes>"
      ]
     },
     "metadata": {},
     "output_type": "display_data"
    }
   ],
   "source": [
    "sns.heatmap(df_dummies.corr())"
   ]
  },
  {
   "cell_type": "markdown",
   "id": "39fde483-efb5-4fd3-9dca-80dcc164f6ac",
   "metadata": {},
   "source": [
    "Sprawdzamy korelacje między zmienna 'Exited', a pozostałymi zmiennymi."
   ]
  },
  {
   "cell_type": "code",
   "execution_count": 28,
   "id": "93369dba-5b47-480f-9e89-038f518d5a7f",
   "metadata": {},
   "outputs": [
    {
     "data": {
      "text/plain": [
       "<AxesSubplot:>"
      ]
     },
     "execution_count": 28,
     "metadata": {},
     "output_type": "execute_result"
    },
    {
     "data": {
      "image/png": "[encoded data removed]",
      "text/plain": [
       "<Figure size 432x288 with 1 Axes>"
      ]
     },
     "metadata": {},
     "output_type": "display_data"
    }
   ],
   "source": [
    "df_dummies.corr()['Exited'].sort_values(ascending=False).plot(kind='bar')"
   ]
  },
  {
   "cell_type": "markdown",
   "id": "c578cdcb-c7a0-4c42-a0d4-32607648dcae",
   "metadata": {},
   "source": [
    "Można zaobserwować że występuje pozytywna korelacja odejścia z banku z wiekiem, zamieszkaniem w Niemczech, stanem konta oraz płcią żeńska. Negatywnie skorelowane są natomiast bycie aktywnym klientem banku, płeć męska, oraz kraj zamieszkania Francja."
   ]
  },
  {
   "cell_type": "code",
   "execution_count": 29,
   "id": "8e6d9d98-e4d1-468c-a894-66f05fdf8908",
   "metadata": {},
   "outputs": [
    {
     "data": {
      "image/png": "[encoded data removed]",
      "text/plain": [
       "<Figure size 432x288 with 1 Axes>"
      ]
     },
     "metadata": {},
     "output_type": "display_data"
    }
   ],
   "source": [
    "corr = df_dummies.corr()['Exited'].sort_values(ascending=False)\n",
    "sns.barplot(x=corr.index, y=corr.values)\n",
    "plt.xticks(rotation=90)\n",
    "plt.tight_layout()"
   ]
  },
  {
   "cell_type": "code",
   "execution_count": 30,
   "id": "57f72ac2-c8b1-4dfc-b781-e5e12465c64b",
   "metadata": {},
   "outputs": [],
   "source": [
    "df_test.drop(columns=['EstimatedSalary', 'HasCrCard'], inplace=True)"
   ]
  },
  {
   "cell_type": "code",
   "execution_count": 31,
   "id": "2206f058-a07e-48dc-9158-ba775a909acd",
   "metadata": {},
   "outputs": [
    {
     "data": {
      "image/png": "[encoded data removed]",
      "text/plain": [
       "<Figure size 432x288 with 1 Axes>"
      ]
     },
     "metadata": {},
     "output_type": "display_data"
    }
   ],
   "source": [
    "g_val = df['Gender'].value_counts()\n",
    "ax = sns.countplot(x='Gender',data=df, order=g_val.index, palette=['#3498DB','#F06292'])\n",
    "total = len(df['Gender'])\n",
    "for p in ax.patches:\n",
    "    percentage = '{:.1f}%'.format(100*p.get_height()/total)\n",
    "    x = p.get_x() + p.get_width()/2 - 0.08\n",
    "    y = p.get_y() + p.get_height()/2\n",
    "    ax.annotate(percentage,(x,y))"
   ]
  },
  {
   "cell_type": "code",
   "execution_count": 32,
   "id": "c08c02e8-a4eb-42e2-adba-508fce8aa8be",
   "metadata": {},
   "outputs": [
    {
     "data": {
      "image/png": "[encoded data removed]",
      "text/plain": [
       "<Figure size 432x288 with 1 Axes>"
      ]
     },
     "metadata": {},
     "output_type": "display_data"
    }
   ],
   "source": [
    "plt.pie(df_eda['AgeGroup'].value_counts(),labels=df_eda['AgeGroup'].unique(), autopct='%.0f%%')\n",
    "plt.show()"
   ]
  },
  {
   "cell_type": "code",
   "execution_count": 33,
   "id": "348ee753-e630-4a79-961b-03ed0796d323",
   "metadata": {},
   "outputs": [
    {
     "data": {
      "image/png": "[encoded data removed]",
      "text/plain": [
       "<Figure size 432x288 with 1 Axes>"
      ]
     },
     "metadata": {},
     "output_type": "display_data"
    }
   ],
   "source": [
    "ax = sns.countplot(x='Exited',data=df, palette=['#1E8449','#CB4335'])\n",
    "total = len(df['Exited'])\n",
    "for p in ax.patches:\n",
    "    percentage = '{:.1f}%'.format(100*p.get_height()/total)\n",
    "    x = p.get_x() + p.get_width()/2 - 0.08\n",
    "    y = p.get_y() + p.get_height()/2\n",
    "    ax.annotate(percentage,(x,y))"
   ]
  },
  {
   "cell_type": "code",
   "execution_count": 34,
   "id": "b4c64201-174c-42f7-ad84-93dac4aa13f8",
   "metadata": {
    "tags": []
   },
   "outputs": [
    {
     "data": {
      "text/plain": [
       "<seaborn.axisgrid.FacetGrid at 0x2356c6d88e0>"
      ]
     },
     "execution_count": 34,
     "metadata": {},
     "output_type": "execute_result"
    },
    {
     "data": {
      "image/png": "[encoded data removed]",
      "text/plain": [
       "<Figure size 360x360 with 1 Axes>"
      ]
     },
     "metadata": {},
     "output_type": "display_data"
    }
   ],
   "source": [
    "sns.displot(data=df,x='Tenure',bins=11)"
   ]
  },
  {
   "cell_type": "code",
   "execution_count": 35,
   "id": "8798aa09-e474-4850-8330-99c8df8b7330",
   "metadata": {
    "tags": []
   },
   "outputs": [
    {
     "data": {
      "text/plain": [
       "<AxesSubplot:xlabel='Exited', ylabel='Tenure'>"
      ]
     },
     "execution_count": 35,
     "metadata": {},
     "output_type": "execute_result"
    },
    {
     "data": {
      "image/png": "[encoded data removed]",
      "text/plain": [
       "<Figure size 432x288 with 1 Axes>"
      ]
     },
     "metadata": {},
     "output_type": "display_data"
    }
   ],
   "source": [
    "sns.boxplot(data=df, x='Exited', y='Tenure')"
   ]
  },
  {
   "cell_type": "code",
   "execution_count": 36,
   "id": "5072b987-b4ff-439a-b3a6-edd4f9318272",
   "metadata": {},
   "outputs": [
    {
     "data": {
      "text/plain": [
       "<seaborn.axisgrid.FacetGrid at 0x2356c7107c0>"
      ]
     },
     "execution_count": 36,
     "metadata": {},
     "output_type": "execute_result"
    },
    {
     "data": {
      "image/png": "[encoded data removed]",
      "text/plain": [
       "<Figure size 401.625x360 with 1 Axes>"
      ]
     },
     "metadata": {},
     "output_type": "display_data"
    }
   ],
   "source": [
    "sns.displot(data=df, x='CreditScore', hue='Exited', kind='kde')"
   ]
  },
  {
   "cell_type": "code",
   "execution_count": 37,
   "id": "8117cc14-543f-4487-a889-c6588866e971",
   "metadata": {},
   "outputs": [
    {
     "data": {
      "text/plain": [
       "<AxesSubplot:xlabel='Exited', ylabel='CreditScore'>"
      ]
     },
     "execution_count": 37,
     "metadata": {},
     "output_type": "execute_result"
    },
    {
     "data": {
      "image/png": "[encoded data removed]",
      "text/plain": [
       "<Figure size 432x288 with 1 Axes>"
      ]
     },
     "metadata": {},
     "output_type": "display_data"
    }
   ],
   "source": [
    "sns.boxplot(data=df, x='Exited', y='CreditScore')"
   ]
  },
  {
   "cell_type": "code",
   "execution_count": 38,
   "id": "f7c41a62-6fc8-4f0d-b2f9-f78f98227e5b",
   "metadata": {},
   "outputs": [
    {
     "data": {
      "text/plain": [
       "<AxesSubplot:xlabel='Geography', ylabel='count'>"
      ]
     },
     "execution_count": 38,
     "metadata": {},
     "output_type": "execute_result"
    },
    {
     "data": {
      "image/png": "[encoded data removed]",
      "text/plain": [
       "<Figure size 432x288 with 1 Axes>"
      ]
     },
     "metadata": {},
     "output_type": "display_data"
    }
   ],
   "source": [
    "sns.countplot(data=df,x='Geography',hue='Exited')"
   ]
  },
  {
   "cell_type": "code",
   "execution_count": 39,
   "id": "20151af2-c3b0-43a4-92fa-c4e1a2d4a335",
   "metadata": {
    "tags": []
   },
   "outputs": [
    {
     "data": {
      "text/plain": [
       "<AxesSubplot:xlabel='NumOfProducts', ylabel='count'>"
      ]
     },
     "execution_count": 39,
     "metadata": {},
     "output_type": "execute_result"
    },
    {
     "data": {
      "image/png": "[encoded data removed]",
      "text/plain": [
       "<Figure size 432x288 with 1 Axes>"
      ]
     },
     "metadata": {},
     "output_type": "display_data"
    }
   ],
   "source": [
    "sns.countplot(data=df,hue='Exited', x='NumOfProducts')"
   ]
  },
  {
   "cell_type": "code",
   "execution_count": 40,
   "id": "49ed3978-9084-478b-94ca-cd7f081bcca0",
   "metadata": {},
   "outputs": [
    {
     "data": {
      "text/plain": [
       "<seaborn.axisgrid.FacetGrid at 0x2356d880520>"
      ]
     },
     "execution_count": 40,
     "metadata": {},
     "output_type": "execute_result"
    },
    {
     "data": {
      "image/png": "[encoded data removed]",
      "text/plain": [
       "<Figure size 401.625x360 with 1 Axes>"
      ]
     },
     "metadata": {},
     "output_type": "display_data"
    }
   ],
   "source": [
    "sns.displot(data=df, x='Age', hue='Exited', kind='kde')"
   ]
  },
  {
   "cell_type": "code",
   "execution_count": 41,
   "id": "aefdb99b-0bfd-4427-ad2d-ebd493fbbf04",
   "metadata": {},
   "outputs": [
    {
     "data": {
      "text/plain": [
       "<AxesSubplot:xlabel='HasCrCard', ylabel='count'>"
      ]
     },
     "execution_count": 41,
     "metadata": {},
     "output_type": "execute_result"
    },
    {
     "data": {
      "image/png": "[encoded data removed]",
      "text/plain": [
       "<Figure size 432x288 with 1 Axes>"
      ]
     },
     "metadata": {},
     "output_type": "display_data"
    }
   ],
   "source": [
    "sns.countplot(data=df,x='HasCrCard',hue='Exited')"
   ]
  },
  {
   "cell_type": "code",
   "execution_count": 42,
   "id": "0153ba5d-1a98-4e21-823c-0a80ce7f94a1",
   "metadata": {},
   "outputs": [
    {
     "data": {
      "text/plain": [
       "<AxesSubplot:xlabel='AgeGroup', ylabel='count'>"
      ]
     },
     "execution_count": 42,
     "metadata": {},
     "output_type": "execute_result"
    },
    {
     "data": {
      "image/png": "[encoded data removed]",
      "text/plain": [
       "<Figure size 432x288 with 1 Axes>"
      ]
     },
     "metadata": {},
     "output_type": "display_data"
    }
   ],
   "source": [
    "sns.countplot(data=df_eda,x='AgeGroup',hue='Exited')"
   ]
  },
  {
   "cell_type": "code",
   "execution_count": 43,
   "id": "9ac1e372-51b2-477d-81c6-f482b0ba3b80",
   "metadata": {},
   "outputs": [
    {
     "data": {
      "text/plain": [
       "<seaborn.axisgrid.FacetGrid at 0x2356c74dd90>"
      ]
     },
     "execution_count": 43,
     "metadata": {},
     "output_type": "execute_result"
    },
    {
     "data": {
      "image/png": "[encoded data removed]",
      "text/plain": [
       "<Figure size 401.625x360 with 1 Axes>"
      ]
     },
     "metadata": {},
     "output_type": "display_data"
    }
   ],
   "source": [
    "sns.displot(data=df, hue='Exited', x='Tenure', kind='kde')"
   ]
  },
  {
   "cell_type": "markdown",
   "id": "06716455-ebb2-4fc0-81c9-5ea44b598573",
   "metadata": {},
   "source": [
    "Patrząc na wyżej przedstawione wykresy można dojść do wniosku, że bank ma problem z utrzymaniem klientów. Trzeba wziąć jednak pod uwagę, że w zbiorze występuje bardzo duża nierówność miedzy tym ile osób opuściło bank, a ile w nim zostało. Z tego powodu cieżko jednoznacznie stwierdzić co jest powodem. Widać jednak, że wraz ze wzrostem wieku klienci są bardziej skłonni do opuszczania banku. Co do wykresu przedstawiającego stosunek 'Exited' do 'NumOfProducts', bo można by się zastanawiać co się tam dzieje, wydaje mi się że fakt iż nie widzimy lepszego stosunku 'Exited' do 'NumOfProducts' wraz ze wzrostem 'NumOfProducts' wynika głownie z małej ilości danych chociaż uważam, że warto się temu przyjrzeć ponieważ rzeczywiście np. słaba jakość produktów oferowanych przez bank może mieć wpływ na ich frustracje i ostateczne opuszczenie banku. "
   ]
  },
  {
   "cell_type": "markdown",
   "id": "009e7360-3dd3-4953-85ba-2deb02cac504",
   "metadata": {
    "tags": []
   },
   "source": [
    "# Feature Engineering\n",
    " - Feature Extraction: select and/or combine variables into features to reduce the dimensionality of your dataset. (e.g. Principle Component Analysis, Nonlinear dimensionality reduction, unsupervised clustering methods)\n",
    " - Feature Selection: select the features which contribute most to the problem you are solving. (e.g. Variance thresholding, Pearson correlation, LASSO)\n",
    " - Feature Construction: the process of manually building more efficient features from raw data. (e.g. Dynamic aggregation of relational attributes)\n",
    " - Feature Learning: the automatic identification and use of features. (e.g. Restricted Boltzmann machine, K-means clustering)\n",
    " Using feature importance scoring methods, you can estimate how useful the  feature will be. Features are given scores so they can be ranked based on these scores.\n",
    "\n",
    "Methods include:\n",
    " - the correlation coefficient between the feature and the target variable (the feature that you are trying to predict)\n",
    " - co-integration between two time series (for time-series data)\n",
    " - predictive models have embedded feature selection methods(e.g. Random Forest, Gradient Boosting Machine)\n",
    " - Chi-Squared test (between target and numerical variable)\n",
    " - Recursive Feature Elimination (EXPLAIN)"
   ]
  },
  {
   "cell_type": "code",
   "execution_count": 44,
   "id": "be156a77-f122-4a00-9f6f-8386267fa17c",
   "metadata": {},
   "outputs": [],
   "source": [
    "#df_test['NewAge'] = pd.qcut(df_test['Age'], 5, labels=[1,2,3,4,5])\n",
    "#df_test.drop(columns='Age', inplace=True)"
   ]
  },
  {
   "cell_type": "markdown",
   "id": "243c6b07-42e8-4a78-8b4f-ed40b8deb2be",
   "metadata": {},
   "source": [
    "Wprowadzenie podzialu na grupy wieku konsumentow nie poprawia modelu w naszym przypadku."
   ]
  },
  {
   "cell_type": "code",
   "execution_count": 45,
   "id": "13d4e7d3-9996-4e06-8365-99259a593b9e",
   "metadata": {},
   "outputs": [],
   "source": [
    "#df_test[\"NewTenure\"] = df_test[\"Tenure\"]/df_test[\"Age\"]\n",
    "#df_test.drop(columns='Tenure', inplace=True)"
   ]
  },
  {
   "cell_type": "markdown",
   "id": "d8208172-c18f-46e0-922c-ffde4a4ed2ba",
   "metadata": {},
   "source": [
    "Pamiętam o tym aby odpowiednio dobrac wagi ze wzgledu na to, że nasz zbiór nie jest równo rozłożony."
   ]
  },
  {
   "cell_type": "markdown",
   "id": "19688e3d-9f1c-4843-bcd4-9d7bd5337cf7",
   "metadata": {
    "tags": []
   },
   "source": [
    "# Modelling"
   ]
  },
  {
   "cell_type": "code",
   "execution_count": 46,
   "id": "8395ca5d-8beb-48c2-956b-c93fb779f438",
   "metadata": {},
   "outputs": [
    {
     "name": "stdout",
     "output_type": "stream",
     "text": [
      "Class weights: {0: 0.6279040562602034, 1: 2.454590083456063}\n"
     ]
    }
   ],
   "source": [
    "def calculate_class_weights(y):\n",
    "    unique_classes, class_counts = np.unique(y, return_counts=True)\n",
    "    total_samples = len(y)\n",
    "    class_weights = {}\n",
    "\n",
    "    for class_label, class_count in zip(unique_classes, class_counts):\n",
    "        class_weight = total_samples / (2.0 * class_count)\n",
    "        class_weights[class_label] = class_weight\n",
    "\n",
    "    return class_weights\n",
    "\n",
    "# Assuming 'y' contains the class labels (0s and 1s) for the binary classification problem\n",
    "class_weights = calculate_class_weights(df['Exited'])\n",
    "print(\"Class weights:\", class_weights)"
   ]
  },
  {
   "cell_type": "code",
   "execution_count": 47,
   "id": "6f420f78-b87d-4136-808e-ddcd2a1962d4",
   "metadata": {},
   "outputs": [],
   "source": [
    "from sklearn.metrics import mean_absolute_error, mean_absolute_percentage_error,mean_squared_error,r2_score,roc_auc_score,confusion_matrix,ConfusionMatrixDisplay"
   ]
  },
  {
   "cell_type": "markdown",
   "id": "a983773e-34f4-4d53-beb2-11eedf709eec",
   "metadata": {
    "tags": []
   },
   "source": [
    "## Regresja logistyczna\n",
    "https://pl.wikipedia.org/wiki/Regresja_logistyczna"
   ]
  },
  {
   "cell_type": "code",
   "execution_count": 48,
   "id": "713b1987-3364-45d8-a6a6-ed687bfc6992",
   "metadata": {
    "tags": []
   },
   "outputs": [],
   "source": [
    "y=df_dummies['Exited'].values\n",
    "X=df_dummies.drop(columns='Exited')"
   ]
  },
  {
   "cell_type": "code",
   "execution_count": 49,
   "id": "a9c96700-30b4-4928-95bf-8e69d3c0b098",
   "metadata": {},
   "outputs": [],
   "source": [
    "from sklearn.model_selection import train_test_split\n",
    "X_train, X_test, y_train, y_test = train_test_split(X, y, test_size=0.33, random_state=101)"
   ]
  },
  {
   "cell_type": "code",
   "execution_count": 50,
   "id": "acfbc763-f6da-4184-a715-1d367e0edc81",
   "metadata": {},
   "outputs": [],
   "source": [
    "from sklearn.preprocessing import MinMaxScaler\n",
    "scaler=MinMaxScaler(feature_range=(0,1))\n",
    "X_train=pd.DataFrame(scaler.fit_transform(X_train))\n",
    "X_test=pd.DataFrame(scaler.transform(X_test))"
   ]
  },
  {
   "cell_type": "code",
   "execution_count": 51,
   "id": "30cb3752-2289-44e4-b9f7-3f8ed77e2ded",
   "metadata": {},
   "outputs": [
    {
     "data": {
      "text/plain": [
       "LogisticRegression()"
      ]
     },
     "execution_count": 51,
     "metadata": {},
     "output_type": "execute_result"
    }
   ],
   "source": [
    "from sklearn.linear_model import LogisticRegression\n",
    "logit_model = LogisticRegression()\n",
    "logit_model.fit(X_train,y_train)"
   ]
  },
  {
   "cell_type": "code",
   "execution_count": 52,
   "id": "388b3570-34a3-4ad9-a8cc-af38a95d1bad",
   "metadata": {},
   "outputs": [
    {
     "name": "stdout",
     "output_type": "stream",
     "text": [
      "              precision    recall  f1-score   support\n",
      "\n",
      "           0       0.83      0.97      0.89      2620\n",
      "           1       0.65      0.24      0.35       680\n",
      "\n",
      "    accuracy                           0.82      3300\n",
      "   macro avg       0.74      0.60      0.62      3300\n",
      "weighted avg       0.79      0.82      0.78      3300\n",
      "\n"
     ]
    }
   ],
   "source": [
    "from sklearn.metrics import classification_report\n",
    "y_pred=logit_model.predict(X_test)\n",
    "print(classification_report(y_test,y_pred))"
   ]
  },
  {
   "cell_type": "code",
   "execution_count": 53,
   "id": "2043d1bd-85bd-4559-bcce-ad41bb17fc27",
   "metadata": {},
   "outputs": [
    {
     "data": {
      "image/png": "[encoded data removed]",
      "text/plain": [
       "<Figure size 432x288 with 2 Axes>"
      ]
     },
     "metadata": {},
     "output_type": "display_data"
    }
   ],
   "source": [
    "cm = confusion_matrix(y_test,y_pred)\n",
    "cm_d = ConfusionMatrixDisplay(confusion_matrix=cm)\n",
    "cm_d.plot()\n",
    "plt.show()"
   ]
  },
  {
   "cell_type": "code",
   "execution_count": 54,
   "id": "611d9b89-7ce5-4b8d-ba0c-327137c21c32",
   "metadata": {},
   "outputs": [
    {
     "name": "stdout",
     "output_type": "stream",
     "text": [
      "0.6043387965873372\n"
     ]
    }
   ],
   "source": [
    "print(roc_auc_score(y_test,y_pred))"
   ]
  },
  {
   "cell_type": "code",
   "execution_count": 55,
   "id": "9f5a9067-0762-467e-86f7-d586ef2d9269",
   "metadata": {},
   "outputs": [],
   "source": [
    "from sklearn.model_selection import train_test_split\n",
    "X_train, X_test, y_train, y_test = train_test_split(X, y, test_size=0.33, random_state=101)"
   ]
  },
  {
   "cell_type": "code",
   "execution_count": 56,
   "id": "e407d24a-35c3-4ac5-9eef-df1972e4acd3",
   "metadata": {},
   "outputs": [],
   "source": [
    "from sklearn.preprocessing import MinMaxScaler\n",
    "scaler=MinMaxScaler(feature_range=(0,1))\n",
    "X_train=pd.DataFrame(scaler.fit_transform(X_train))\n",
    "X_test=pd.DataFrame(scaler.transform(X_test))"
   ]
  },
  {
   "cell_type": "code",
   "execution_count": 57,
   "id": "605ef836-f7ac-42a0-a659-595c250fd2ab",
   "metadata": {},
   "outputs": [
    {
     "data": {
      "text/plain": [
       "LogisticRegression(class_weight='balanced')"
      ]
     },
     "execution_count": 57,
     "metadata": {},
     "output_type": "execute_result"
    }
   ],
   "source": [
    "from sklearn.linear_model import LogisticRegression\n",
    "logit_model = LogisticRegression(class_weight='balanced')\n",
    "logit_model.fit(X_train,y_train)"
   ]
  },
  {
   "cell_type": "code",
   "execution_count": 58,
   "id": "c3dc9313-dda0-4239-af70-e99b0fe2dc01",
   "metadata": {},
   "outputs": [
    {
     "name": "stdout",
     "output_type": "stream",
     "text": [
      "              precision    recall  f1-score   support\n",
      "\n",
      "           0       0.91      0.71      0.80      2620\n",
      "           1       0.40      0.73      0.51       680\n",
      "\n",
      "    accuracy                           0.71      3300\n",
      "   macro avg       0.65      0.72      0.66      3300\n",
      "weighted avg       0.81      0.71      0.74      3300\n",
      "\n"
     ]
    }
   ],
   "source": [
    "from sklearn.metrics import classification_report\n",
    "y_pred=logit_model.predict(X_test)\n",
    "print(classification_report(y_test,y_pred))"
   ]
  },
  {
   "cell_type": "code",
   "execution_count": 59,
   "id": "ae20b9d6-ab1f-4a5b-b0ac-e21a0c4a61d7",
   "metadata": {},
   "outputs": [
    {
     "data": {
      "image/png": "[encoded data removed]",
      "text/plain": [
       "<Figure size 432x288 with 2 Axes>"
      ]
     },
     "metadata": {},
     "output_type": "display_data"
    }
   ],
   "source": [
    "cm = confusion_matrix(y_test,y_pred)\n",
    "cm_d = ConfusionMatrixDisplay(confusion_matrix=cm)\n",
    "cm_d.plot()\n",
    "plt.show()"
   ]
  },
  {
   "cell_type": "code",
   "execution_count": 60,
   "id": "b888d816-ffd1-47c4-ba8a-e56e0150785f",
   "metadata": {},
   "outputs": [
    {
     "name": "stdout",
     "output_type": "stream",
     "text": [
      "0.7218735967669511\n"
     ]
    }
   ],
   "source": [
    "print(roc_auc_score(y_test,y_pred))"
   ]
  },
  {
   "cell_type": "markdown",
   "id": "4ac84743-32ef-4d77-9989-75d1fb7cb598",
   "metadata": {},
   "source": [
    "ROC_AUC dla binary classification jest bardzo dobrym narzedziem do sprawdzenia jakosci modelu.\\\n",
    "Warto dodać macierz pomylek (confusion martix) w celu pokazania bledow 1 i 2 rodzaju."
   ]
  },
  {
   "cell_type": "markdown",
   "id": "1db50eb9-6f36-4c49-9f79-8890f056438f",
   "metadata": {},
   "source": [
    "Wersja z usunieciem outlierow"
   ]
  },
  {
   "cell_type": "code",
   "execution_count": 61,
   "id": "e54582ca-8b14-4835-9463-0ab31fa00b17",
   "metadata": {},
   "outputs": [],
   "source": [
    "df_dummies = pd.get_dummies(df_test)\n",
    "y=df_dummies['Exited'].values\n",
    "X=df_dummies.drop(columns='Exited')"
   ]
  },
  {
   "cell_type": "code",
   "execution_count": 62,
   "id": "53c5e34f-1ed5-486c-8f24-57e6abafcd0a",
   "metadata": {},
   "outputs": [
    {
     "data": {
      "text/plain": [
       "LogisticRegression(class_weight='balanced')"
      ]
     },
     "execution_count": 62,
     "metadata": {},
     "output_type": "execute_result"
    }
   ],
   "source": [
    "from sklearn.model_selection import train_test_split\n",
    "X_train, X_test, y_train, y_test = train_test_split(X, y, test_size=0.33, random_state=101)\n",
    "from sklearn.preprocessing import MinMaxScaler\n",
    "scaler=MinMaxScaler(feature_range=(0,1))\n",
    "X_train=pd.DataFrame(scaler.fit_transform(X_train))\n",
    "X_test=pd.DataFrame(scaler.transform(X_test))\n",
    "from sklearn.linear_model import LogisticRegression\n",
    "logit_model = LogisticRegression(class_weight='balanced')\n",
    "logit_model.fit(X_train,y_train)"
   ]
  },
  {
   "cell_type": "code",
   "execution_count": 63,
   "id": "efd89659-6e60-49bf-9236-95087759537a",
   "metadata": {},
   "outputs": [
    {
     "name": "stdout",
     "output_type": "stream",
     "text": [
      "              precision    recall  f1-score   support\n",
      "\n",
      "           0       0.91      0.73      0.81      2521\n",
      "           1       0.41      0.71      0.52       656\n",
      "\n",
      "    accuracy                           0.73      3177\n",
      "   macro avg       0.66      0.72      0.66      3177\n",
      "weighted avg       0.80      0.73      0.75      3177\n",
      "\n"
     ]
    }
   ],
   "source": [
    "from sklearn.metrics import classification_report\n",
    "y_pred=logit_model.predict(X_test)\n",
    "print(classification_report(y_test,y_pred))"
   ]
  },
  {
   "cell_type": "code",
   "execution_count": 64,
   "id": "cda12d8e-75db-4c45-987b-cad23d6616d2",
   "metadata": {},
   "outputs": [
    {
     "data": {
      "image/png": "[encoded data removed]",
      "text/plain": [
       "<Figure size 432x288 with 2 Axes>"
      ]
     },
     "metadata": {},
     "output_type": "display_data"
    }
   ],
   "source": [
    "cm = confusion_matrix(y_test,y_pred)\n",
    "cm_d = ConfusionMatrixDisplay(confusion_matrix=cm)\n",
    "cm_d.plot()\n",
    "plt.show()"
   ]
  },
  {
   "cell_type": "code",
   "execution_count": 65,
   "id": "fb8f27d8-b6a0-40b1-9832-e5d597d9decb",
   "metadata": {},
   "outputs": [
    {
     "name": "stdout",
     "output_type": "stream",
     "text": [
      "0.720210899178607\n"
     ]
    }
   ],
   "source": [
    "print(roc_auc_score(y_test,y_pred))"
   ]
  },
  {
   "cell_type": "markdown",
   "id": "279c9745-c8a5-471c-9c5a-a665f63286ee",
   "metadata": {},
   "source": [
    "Zauważalna jest poprawa o średni 2%"
   ]
  },
  {
   "cell_type": "markdown",
   "id": "09aa81e9-1596-4989-a724-2887d2270389",
   "metadata": {},
   "source": [
    "## KNN\n",
    "https://pl.wikipedia.org/wiki/K_najbli%C5%BCszych_s%C4%85siad%C3%B3w"
   ]
  },
  {
   "cell_type": "code",
   "execution_count": 66,
   "id": "91eb626e-3a43-4849-afa8-82439666513e",
   "metadata": {},
   "outputs": [],
   "source": [
    "X_train, X_test, y_train, y_test = train_test_split(X, y, test_size=0.33, random_state=101)"
   ]
  },
  {
   "cell_type": "code",
   "execution_count": 67,
   "id": "b3f49a62-21fb-43ef-b19e-40d7f4373c7e",
   "metadata": {},
   "outputs": [],
   "source": [
    "scaler=MinMaxScaler(feature_range=(0,1))\n",
    "X_train=pd.DataFrame(scaler.fit_transform(X_train))\n",
    "X_test=pd.DataFrame(scaler.transform(X_test))"
   ]
  },
  {
   "cell_type": "code",
   "execution_count": 68,
   "id": "2e344852-e363-44ba-bfd7-389b32c3bfb9",
   "metadata": {},
   "outputs": [
    {
     "data": {
      "text/plain": [
       "KNeighborsClassifier()"
      ]
     },
     "execution_count": 68,
     "metadata": {},
     "output_type": "execute_result"
    }
   ],
   "source": [
    "from sklearn.neighbors import KNeighborsClassifier\n",
    "knn_model=KNeighborsClassifier()\n",
    "knn_model.fit(X_train, y_train)"
   ]
  },
  {
   "cell_type": "code",
   "execution_count": 69,
   "id": "c9141de4-e765-4a79-8cec-6b0bd98be61c",
   "metadata": {},
   "outputs": [
    {
     "name": "stdout",
     "output_type": "stream",
     "text": [
      "              precision    recall  f1-score   support\n",
      "\n",
      "           0       0.86      0.95      0.90      2521\n",
      "           1       0.65      0.39      0.49       656\n",
      "\n",
      "    accuracy                           0.83      3177\n",
      "   macro avg       0.76      0.67      0.70      3177\n",
      "weighted avg       0.81      0.83      0.81      3177\n",
      "\n"
     ]
    }
   ],
   "source": [
    "y_pred=knn_model.predict(X_test)\n",
    "print(classification_report(y_test,y_pred))"
   ]
  },
  {
   "cell_type": "code",
   "execution_count": 70,
   "id": "bbd2ec73-3b88-4e6f-9746-3d31ea76bd36",
   "metadata": {},
   "outputs": [
    {
     "data": {
      "image/png": "[encoded data removed]",
      "text/plain": [
       "<Figure size 432x288 with 2 Axes>"
      ]
     },
     "metadata": {},
     "output_type": "display_data"
    }
   ],
   "source": [
    "cm = confusion_matrix(y_test,y_pred)\n",
    "cm_d = ConfusionMatrixDisplay(confusion_matrix=cm)\n",
    "cm_d.plot()\n",
    "plt.show()"
   ]
  },
  {
   "cell_type": "code",
   "execution_count": 71,
   "id": "e018ecc6-6c11-4509-abe8-aab4ce7a9ca6",
   "metadata": {},
   "outputs": [
    {
     "name": "stdout",
     "output_type": "stream",
     "text": [
      "0.6694745842242239\n"
     ]
    }
   ],
   "source": [
    "print(roc_auc_score(y_test,y_pred))"
   ]
  },
  {
   "cell_type": "code",
   "execution_count": 72,
   "id": "7dda83b9-cd3b-4a0e-a646-deed9aceef99",
   "metadata": {},
   "outputs": [],
   "source": [
    "X_train, X_test, y_train, y_test = train_test_split(X, y, test_size=0.33, random_state=101)"
   ]
  },
  {
   "cell_type": "code",
   "execution_count": 73,
   "id": "28a118ba-fb30-4a93-89a4-12ca205e181a",
   "metadata": {},
   "outputs": [],
   "source": [
    "scaler=MinMaxScaler(feature_range=(0,1))\n",
    "X_train=pd.DataFrame(scaler.fit_transform(X_train))\n",
    "X_test=pd.DataFrame(scaler.transform(X_test))"
   ]
  },
  {
   "cell_type": "code",
   "execution_count": 74,
   "id": "d0534f70-5a0b-4c80-91c3-fb9c1e13fc20",
   "metadata": {},
   "outputs": [
    {
     "data": {
      "text/plain": [
       "0    5156\n",
       "1    1293\n",
       "dtype: int64"
      ]
     },
     "execution_count": 74,
     "metadata": {},
     "output_type": "execute_result"
    }
   ],
   "source": [
    "pd.DataFrame(y_train).value_counts()"
   ]
  },
  {
   "cell_type": "code",
   "execution_count": 75,
   "id": "d665d005-ac1c-4163-96d2-519738b79b07",
   "metadata": {},
   "outputs": [],
   "source": [
    "from imblearn.over_sampling import RandomOverSampler\n",
    "oversample=RandomOverSampler(sampling_strategy='minority')\n",
    "X_ROS, y_ROS = oversample.fit_resample(X_train, y_train)"
   ]
  },
  {
   "cell_type": "code",
   "execution_count": 76,
   "id": "909ae43a-a1ba-4614-bc60-99964be78762",
   "metadata": {},
   "outputs": [
    {
     "data": {
      "text/plain": [
       "0    5156\n",
       "1    5156\n",
       "dtype: int64"
      ]
     },
     "execution_count": 76,
     "metadata": {},
     "output_type": "execute_result"
    }
   ],
   "source": [
    "pd.DataFrame(y_ROS).value_counts()"
   ]
  },
  {
   "cell_type": "code",
   "execution_count": 77,
   "id": "9d1e9614-f601-4ca2-a5f5-cdb29a36ef40",
   "metadata": {},
   "outputs": [
    {
     "data": {
      "text/plain": [
       "KNeighborsClassifier()"
      ]
     },
     "execution_count": 77,
     "metadata": {},
     "output_type": "execute_result"
    }
   ],
   "source": [
    "from sklearn.neighbors import KNeighborsClassifier\n",
    "knn_model=KNeighborsClassifier()\n",
    "knn_model.fit(X_ROS, y_ROS)"
   ]
  },
  {
   "cell_type": "code",
   "execution_count": 78,
   "id": "080365c8-179f-4889-b30b-cfe05f153737",
   "metadata": {},
   "outputs": [
    {
     "name": "stdout",
     "output_type": "stream",
     "text": [
      "              precision    recall  f1-score   support\n",
      "\n",
      "           0       0.89      0.76      0.82      2521\n",
      "           1       0.42      0.65      0.51       656\n",
      "\n",
      "    accuracy                           0.74      3177\n",
      "   macro avg       0.65      0.71      0.67      3177\n",
      "weighted avg       0.79      0.74      0.76      3177\n",
      "\n"
     ]
    }
   ],
   "source": [
    "y_pred=knn_model.predict(X_test)\n",
    "print(classification_report(y_test,y_pred))"
   ]
  },
  {
   "cell_type": "code",
   "execution_count": 79,
   "id": "7cd6968a-a074-4779-a0f7-9c4191e8e57e",
   "metadata": {},
   "outputs": [
    {
     "data": {
      "image/png": "[encoded data removed]",
      "text/plain": [
       "<Figure size 432x288 with 2 Axes>"
      ]
     },
     "metadata": {},
     "output_type": "display_data"
    }
   ],
   "source": [
    "cm = confusion_matrix(y_test,y_pred)\n",
    "cm_d = ConfusionMatrixDisplay(confusion_matrix=cm)\n",
    "cm_d.plot()\n",
    "plt.show()"
   ]
  },
  {
   "cell_type": "code",
   "execution_count": 80,
   "id": "c5939c7e-973b-47c2-9d2a-7086d8273719",
   "metadata": {},
   "outputs": [
    {
     "name": "stdout",
     "output_type": "stream",
     "text": [
      "0.7053603390060081\n"
     ]
    }
   ],
   "source": [
    "print(roc_auc_score(y_test,y_pred))"
   ]
  },
  {
   "cell_type": "markdown",
   "id": "68d592a5-d9d0-4a25-8901-4fef48b63c72",
   "metadata": {},
   "source": [
    "Ważniejsza jest dla mnie statystyka recall dlatego, że chcemy uniknąć sytuacji w której model nie wyłapie tego, że ktoś opuścił nasz bank. Owszem recall w przypadku gdy mamy osobę która nie opuściła banku jest niższy ale to nie jest tak istotne."
   ]
  },
  {
   "cell_type": "markdown",
   "id": "2e80a5a4-80a9-48c6-a005-0f75c75a8a2e",
   "metadata": {},
   "source": [
    "Dlaczego użyłem RandomOverSampler https://iopscience.iop.org/article/10.1088/1757-899X/719/1/012072/pdf"
   ]
  },
  {
   "cell_type": "markdown",
   "id": "615ecaad-477a-4377-8e15-9909fe38991b",
   "metadata": {},
   "source": [
    "## Drzewa i lasy losowe\n",
    "https://pre-epodreczniki.open.agh.edu.pl/openagh-permalink_view.php?moduleId=2083&link=facccf589548c1e880246556fba8eab3"
   ]
  },
  {
   "cell_type": "code",
   "execution_count": 81,
   "id": "0d1e5b4b-d399-46df-8ef2-81b5c7495b88",
   "metadata": {},
   "outputs": [],
   "source": [
    "X_train, X_test, y_train, y_test = train_test_split(X, y, test_size=0.33, random_state=101)"
   ]
  },
  {
   "cell_type": "code",
   "execution_count": 82,
   "id": "cefa853b-7bb5-4cff-9281-7b20991ea478",
   "metadata": {},
   "outputs": [],
   "source": [
    "scaler=MinMaxScaler(feature_range=(0,1))\n",
    "X_train=pd.DataFrame(scaler.fit_transform(X_train))\n",
    "X_test=pd.DataFrame(scaler.transform(X_test))"
   ]
  },
  {
   "cell_type": "code",
   "execution_count": 83,
   "id": "8fe05973-e042-41e8-a48f-ab005b7734ae",
   "metadata": {},
   "outputs": [],
   "source": [
    "oversample=RandomOverSampler(sampling_strategy=1)\n",
    "X_ROS, y_ROS = oversample.fit_resample(X_train, y_train)"
   ]
  },
  {
   "cell_type": "code",
   "execution_count": 84,
   "id": "df7fd3c2-655c-4fdb-8250-965b1df9da43",
   "metadata": {},
   "outputs": [
    {
     "data": {
      "text/plain": [
       "RandomForestClassifier()"
      ]
     },
     "execution_count": 84,
     "metadata": {},
     "output_type": "execute_result"
    }
   ],
   "source": [
    "from sklearn.ensemble import RandomForestClassifier\n",
    "rfc_model=RandomForestClassifier()\n",
    "rfc_model.fit(X_ROS,y_ROS)"
   ]
  },
  {
   "cell_type": "code",
   "execution_count": 85,
   "id": "d25deeb6-629b-4894-b3e8-910b880aba1c",
   "metadata": {},
   "outputs": [
    {
     "name": "stdout",
     "output_type": "stream",
     "text": [
      "              precision    recall  f1-score   support\n",
      "\n",
      "           0       0.89      0.92      0.90      2521\n",
      "           1       0.63      0.54      0.58       656\n",
      "\n",
      "    accuracy                           0.84      3177\n",
      "   macro avg       0.76      0.73      0.74      3177\n",
      "weighted avg       0.83      0.84      0.84      3177\n",
      "\n"
     ]
    }
   ],
   "source": [
    "y_pred=rfc_model.predict(X_test)\n",
    "print(classification_report(y_test,y_pred))"
   ]
  },
  {
   "cell_type": "code",
   "execution_count": 86,
   "id": "35db2859-d1db-48b7-9ea2-26a86d46bbc4",
   "metadata": {},
   "outputs": [
    {
     "data": {
      "image/png": "[encoded data removed]",
      "text/plain": [
       "<Figure size 432x288 with 2 Axes>"
      ]
     },
     "metadata": {},
     "output_type": "display_data"
    }
   ],
   "source": [
    "cm=confusion_matrix(y_test,y_pred)\n",
    "cm_d=ConfusionMatrixDisplay(confusion_matrix=cm)\n",
    "cm_d.plot()\n",
    "plt.show()"
   ]
  },
  {
   "cell_type": "code",
   "execution_count": 87,
   "id": "eee17603-586f-47df-ab9b-cadb7010a22b",
   "metadata": {
    "tags": []
   },
   "outputs": [
    {
     "data": {
      "text/plain": [
       "0.7304535197027893"
      ]
     },
     "execution_count": 87,
     "metadata": {},
     "output_type": "execute_result"
    }
   ],
   "source": [
    "roc_auc_score(y_test,y_pred)"
   ]
  },
  {
   "cell_type": "code",
   "execution_count": 88,
   "id": "038e418d-735b-428d-9d4b-6551f92dbd73",
   "metadata": {},
   "outputs": [],
   "source": [
    "from imblearn.ensemble import BalancedRandomForestClassifier\n",
    "brfc_model=BalancedRandomForestClassifier()"
   ]
  },
  {
   "cell_type": "markdown",
   "id": "f0f6b5f6-ef9b-471e-974a-5c18992daf7d",
   "metadata": {},
   "source": [
    "Skorzystam w tym miejscu z innej metody oceny modelu tj. cross-validation-score z ocena modelu oparta wciaz na roc-auc"
   ]
  },
  {
   "cell_type": "code",
   "execution_count": 89,
   "id": "69953ff5-a68d-4d0e-9342-172d55269bf9",
   "metadata": {},
   "outputs": [],
   "source": [
    "from sklearn.model_selection import RepeatedStratifiedKFold\n",
    "cv=RepeatedStratifiedKFold(n_splits=10,n_repeats=3,random_state=101)"
   ]
  },
  {
   "cell_type": "code",
   "execution_count": 90,
   "id": "e038f5b8-5da8-4a4a-bf51-6deb1d540b88",
   "metadata": {},
   "outputs": [],
   "source": [
    "from sklearn.model_selection import cross_val_score\n",
    "import warnings\n",
    "warnings.filterwarnings('ignore')\n",
    "score=cross_val_score(brfc_model,X,y,scoring='recall',cv=cv,n_jobs=1)"
   ]
  },
  {
   "cell_type": "code",
   "execution_count": 91,
   "id": "49b61145-75c2-407b-98d8-053b400ad651",
   "metadata": {},
   "outputs": [
    {
     "name": "stdout",
     "output_type": "stream",
     "text": [
      "Mean ROC AUC:0.756\n"
     ]
    }
   ],
   "source": [
    "from statistics import mean\n",
    "print('Mean ROC AUC:%.3f'% mean(score))"
   ]
  },
  {
   "cell_type": "markdown",
   "id": "3038f044-08a4-4b97-ad5f-11c49322beef",
   "metadata": {},
   "source": [
    "Przypomniało mi sie jeszcze zostawic to tutaj w razie jakis przyszlysz watpliwosci dotyczacych auc roc https://glassboxmedicine.com/2019/02/23/measuring-performance-auc-auroc/"
   ]
  },
  {
   "cell_type": "code",
   "execution_count": 92,
   "id": "a7057729-69ec-4a2b-acd6-feab43838019",
   "metadata": {},
   "outputs": [],
   "source": [
    "#from imblearn.ensemble import EasyEnsembleClassifier\n",
    "#ee_model=EasyEnsembleClassifier(n_estimators=10)"
   ]
  },
  {
   "cell_type": "code",
   "execution_count": 93,
   "id": "6f159a12-a0fa-4399-837e-517cce2b4516",
   "metadata": {},
   "outputs": [],
   "source": [
    "#score=cross_val_score(ee_model,X,y,cv=cv,n_jobs=1)\n",
    "#print('Mean ROC AUC:%.3f'% mean(score))"
   ]
  },
  {
   "cell_type": "markdown",
   "id": "92fc405f-611a-492a-ad6c-42fc0ad0c508",
   "metadata": {},
   "source": [
    "Nie warto :( Mean ROC AUC:0.781 a czas generowania o wiele dluzszy"
   ]
  },
  {
   "cell_type": "code",
   "execution_count": 94,
   "id": "e5d488d1-1e05-4668-8cd3-e195ed468c36",
   "metadata": {},
   "outputs": [],
   "source": [
    "y=df_dummies['Exited'].values\n",
    "X=df_dummies.drop(columns='Exited')"
   ]
  },
  {
   "cell_type": "code",
   "execution_count": 95,
   "id": "41f313be-b75a-486d-bf3c-cf13dbcc63b1",
   "metadata": {},
   "outputs": [],
   "source": [
    "from xgboost import XGBClassifier\n",
    "gb_model=XGBClassifier(n_estimators=10)"
   ]
  },
  {
   "cell_type": "code",
   "execution_count": 96,
   "id": "d79ddbe5-7249-4d4e-8efc-0cc0d215db08",
   "metadata": {},
   "outputs": [],
   "source": [
    "from sklearn.preprocessing import MinMaxScaler\n",
    "scaler=MinMaxScaler(feature_range=(0,1))\n",
    "#X=pd.DataFrame(scaler.fit_transform(X))"
   ]
  },
  {
   "cell_type": "code",
   "execution_count": 97,
   "id": "cc5ec1ce-c383-4b28-9652-51fcce3ed8b6",
   "metadata": {},
   "outputs": [],
   "source": [
    "from imblearn.over_sampling import RandomOverSampler\n",
    "oversample=RandomOverSampler(sampling_strategy='minority')\n",
    "#X, y = oversample.fit_resample(X, y)"
   ]
  },
  {
   "cell_type": "code",
   "execution_count": 98,
   "id": "6f1fc61f-ed02-46b9-980c-76ebfc0d5020",
   "metadata": {},
   "outputs": [],
   "source": [
    "from sklearn.pipeline import Pipeline\n",
    "from imblearn.pipeline import make_pipeline\n",
    "pipeline=make_pipeline(scaler,oversample, gb_model)"
   ]
  },
  {
   "cell_type": "code",
   "execution_count": 99,
   "id": "1eac3c95-976d-4d72-a341-f886684f28d8",
   "metadata": {},
   "outputs": [
    {
     "name": "stdout",
     "output_type": "stream",
     "text": [
      "Mean ROC AUC:0.857\n"
     ]
    }
   ],
   "source": [
    "from sklearn.model_selection import RepeatedStratifiedKFold\n",
    "from sklearn.model_selection import cross_val_score\n",
    "from statistics import mean\n",
    "cv=RepeatedStratifiedKFold(n_splits=3,n_repeats=3,random_state=101)\n",
    "score=cross_val_score(pipeline,X,y,scoring='roc_auc',cv=cv,n_jobs=1)\n",
    "print('Mean ROC AUC:%.3f'% mean(score))"
   ]
  },
  {
   "cell_type": "code",
   "execution_count": 100,
   "id": "4adc5ea1-13f9-4f82-a830-d98711ad1fce",
   "metadata": {},
   "outputs": [
    {
     "data": {
      "text/plain": [
       "Pipeline(steps=[('minmaxscaler', MinMaxScaler()),\n",
       "                ('randomoversampler',\n",
       "                 RandomOverSampler(sampling_strategy='minority')),\n",
       "                ('xgbclassifier',\n",
       "                 XGBClassifier(base_score=None, booster=None, callbacks=None,\n",
       "                               colsample_bylevel=None, colsample_bynode=None,\n",
       "                               colsample_bytree=None, device=None,\n",
       "                               early_stopping_rounds=None,\n",
       "                               enable_categorical=False, eval_metric=None,\n",
       "                               feature_t...ow_policy=None,\n",
       "                               importance_type=None,\n",
       "                               interaction_constraints=None, learning_rate=None,\n",
       "                               max_bin=None, max_cat_threshold=None,\n",
       "                               max_cat_to_onehot=None, max_delta_step=None,\n",
       "                               max_depth=None, max_leaves=None,\n",
       "                               min_child_weight=None, missing=nan,\n",
       "                               monotone_constraints=None, multi_strategy=None,\n",
       "                               n_estimators=10, n_jobs=None,\n",
       "                               num_parallel_tree=None, random_state=None, ...))])"
      ]
     },
     "execution_count": 100,
     "metadata": {},
     "output_type": "execute_result"
    }
   ],
   "source": [
    "X_train, X_test, y_train, y_test = train_test_split(X, y, test_size=0.33, random_state=101)\n",
    "pipeline.fit(X_train,y_train)"
   ]
  },
  {
   "cell_type": "code",
   "execution_count": 101,
   "id": "da4d17c3-b59c-47d2-aecb-b70968d058e1",
   "metadata": {
    "tags": []
   },
   "outputs": [
    {
     "name": "stdout",
     "output_type": "stream",
     "text": [
      "              precision    recall  f1-score   support\n",
      "\n",
      "           0       0.92      0.81      0.86      2521\n",
      "           1       0.50      0.71      0.58       656\n",
      "\n",
      "    accuracy                           0.79      3177\n",
      "   macro avg       0.71      0.76      0.72      3177\n",
      "weighted avg       0.83      0.79      0.80      3177\n",
      "\n"
     ]
    }
   ],
   "source": [
    "from sklearn.metrics import classification_report\n",
    "y_pred=pipeline.predict(X_test)\n",
    "print(classification_report(y_test,y_pred))"
   ]
  },
  {
   "cell_type": "code",
   "execution_count": 102,
   "id": "01ff48d6-54b1-4013-b30e-f8b248749204",
   "metadata": {},
   "outputs": [
    {
     "data": {
      "image/png": "[encoded data removed]",
      "text/plain": [
       "<Figure size 432x288 with 2 Axes>"
      ]
     },
     "metadata": {},
     "output_type": "display_data"
    }
   ],
   "source": [
    "from sklearn.metrics import ConfusionMatrixDisplay\n",
    "cm=confusion_matrix(y_test,y_pred)\n",
    "cm_d=ConfusionMatrixDisplay(confusion_matrix=cm)\n",
    "cm_d.plot()\n",
    "plt.show()"
   ]
  },
  {
   "cell_type": "code",
   "execution_count": 103,
   "id": "f40fb904-ccbf-46ed-a1ea-20f5b03c863e",
   "metadata": {},
   "outputs": [
    {
     "data": {
      "text/plain": [
       "0.7615692814504504"
      ]
     },
     "execution_count": 103,
     "metadata": {},
     "output_type": "execute_result"
    }
   ],
   "source": [
    "from sklearn.metrics import roc_auc_score\n",
    "roc_auc_score(y_test,y_pred)"
   ]
  },
  {
   "cell_type": "code",
   "execution_count": 104,
   "id": "e2e1fd63-6a77-4dfc-b382-c06b83a33ae3",
   "metadata": {},
   "outputs": [
    {
     "name": "stdout",
     "output_type": "stream",
     "text": [
      "Mean ROC AUC:0.856\n"
     ]
    }
   ],
   "source": [
    "df_dummies = pd.get_dummies(df_test)\n",
    "y=df_dummies['Exited'].values\n",
    "X=df_dummies.drop(columns='Exited')\n",
    "from xgboost import XGBClassifier\n",
    "gb_model=XGBClassifier(n_estimators=10)\n",
    "from sklearn.preprocessing import MinMaxScaler\n",
    "scaler=MinMaxScaler(feature_range=(0,1))\n",
    "from imblearn.over_sampling import RandomOverSampler\n",
    "oversample=RandomOverSampler(sampling_strategy='minority')\n",
    "from sklearn.pipeline import Pipeline\n",
    "from imblearn.pipeline import make_pipeline\n",
    "pipeline=make_pipeline(scaler,oversample, gb_model)\n",
    "from sklearn.model_selection import RepeatedStratifiedKFold\n",
    "from sklearn.model_selection import cross_val_score\n",
    "from statistics import mean\n",
    "cv=RepeatedStratifiedKFold(n_splits=3,n_repeats=3,random_state=101)\n",
    "score=cross_val_score(pipeline,X,y,scoring='roc_auc',cv=cv,n_jobs=1)\n",
    "print('Mean ROC AUC:%.3f'% mean(score))"
   ]
  },
  {
   "cell_type": "code",
   "execution_count": 105,
   "id": "4cc472d8-44fd-49a1-8241-c0dcc0d8a264",
   "metadata": {},
   "outputs": [
    {
     "data": {
      "text/plain": [
       "Pipeline(steps=[('minmaxscaler', MinMaxScaler()),\n",
       "                ('randomoversampler',\n",
       "                 RandomOverSampler(sampling_strategy='minority')),\n",
       "                ('xgbclassifier',\n",
       "                 XGBClassifier(base_score=None, booster=None, callbacks=None,\n",
       "                               colsample_bylevel=None, colsample_bynode=None,\n",
       "                               colsample_bytree=None, device=None,\n",
       "                               early_stopping_rounds=None,\n",
       "                               enable_categorical=False, eval_metric=None,\n",
       "                               feature_t...ow_policy=None,\n",
       "                               importance_type=None,\n",
       "                               interaction_constraints=None, learning_rate=None,\n",
       "                               max_bin=None, max_cat_threshold=None,\n",
       "                               max_cat_to_onehot=None, max_delta_step=None,\n",
       "                               max_depth=None, max_leaves=None,\n",
       "                               min_child_weight=None, missing=nan,\n",
       "                               monotone_constraints=None, multi_strategy=None,\n",
       "                               n_estimators=10, n_jobs=None,\n",
       "                               num_parallel_tree=None, random_state=None, ...))])"
      ]
     },
     "execution_count": 105,
     "metadata": {},
     "output_type": "execute_result"
    }
   ],
   "source": [
    "X_train, X_test, y_train, y_test = train_test_split(X, y, test_size=0.33, random_state=101)\n",
    "pipeline.fit(X_train,y_train)"
   ]
  },
  {
   "cell_type": "code",
   "execution_count": 106,
   "id": "4a9a1b43-748e-4a1b-9808-0793cacd6488",
   "metadata": {},
   "outputs": [
    {
     "name": "stdout",
     "output_type": "stream",
     "text": [
      "              precision    recall  f1-score   support\n",
      "\n",
      "           0       0.92      0.82      0.87      2521\n",
      "           1       0.51      0.73      0.60       656\n",
      "\n",
      "    accuracy                           0.80      3177\n",
      "   macro avg       0.72      0.77      0.73      3177\n",
      "weighted avg       0.84      0.80      0.81      3177\n",
      "\n"
     ]
    }
   ],
   "source": [
    "from sklearn.metrics import classification_report\n",
    "y_pred=pipeline.predict(X_test)\n",
    "print(classification_report(y_test,y_pred))"
   ]
  },
  {
   "cell_type": "code",
   "execution_count": 107,
   "id": "11341453-f3b9-4ee8-8e32-fe3582be5c42",
   "metadata": {},
   "outputs": [
    {
     "data": {
      "image/png": "[encoded data removed]",
      "text/plain": [
       "<Figure size 432x288 with 2 Axes>"
      ]
     },
     "metadata": {},
     "output_type": "display_data"
    }
   ],
   "source": [
    "from sklearn.metrics import ConfusionMatrixDisplay\n",
    "cm=confusion_matrix(y_test,y_pred)\n",
    "cm_d=ConfusionMatrixDisplay(confusion_matrix=cm)\n",
    "cm_d.plot()\n",
    "plt.show()"
   ]
  },
  {
   "cell_type": "code",
   "execution_count": 108,
   "id": "49fec030-46c5-4cc5-be49-27c2193c148f",
   "metadata": {
    "tags": []
   },
   "outputs": [],
   "source": [
    "from sklearn.model_selection import cross_validate\n",
    "cv=RepeatedStratifiedKFold(n_splits=3,n_repeats=3,random_state=101)\n",
    "val=cross_validate(pipeline,X,y,scoring='roc_auc',cv=cv,n_jobs=1,return_train_score=True)"
   ]
  },
  {
   "cell_type": "code",
   "execution_count": 109,
   "id": "1d4d5506-54db-4946-a44b-fa11375df3d9",
   "metadata": {},
   "outputs": [
    {
     "data": {
      "text/plain": [
       "{'fit_time': array([0.04070354, 0.02752614, 0.03061819, 0.02955317, 0.02857566,\n",
       "        0.02907133, 0.03160262, 0.03109455, 0.02853155]),\n",
       " 'score_time': array([0.00601292, 0.00650573, 0.00600219, 0.00553298, 0.00599861,\n",
       "        0.00651002, 0.00699997, 0.0075171 , 0.00699949]),\n",
       " 'test_score': array([0.85248354, 0.84907626, 0.8654614 , 0.86208315, 0.85886494,\n",
       "        0.85089665, 0.85756936, 0.85772327, 0.85253262]),\n",
       " 'train_score': array([0.91212963, 0.90878884, 0.90188032, 0.90365112, 0.90823622,\n",
       "        0.90927248, 0.90940848, 0.90930093, 0.90481491])}"
      ]
     },
     "execution_count": 109,
     "metadata": {},
     "output_type": "execute_result"
    }
   ],
   "source": [
    "val"
   ]
  },
  {
   "cell_type": "code",
   "execution_count": 110,
   "id": "21ae2cf0-632b-4d1e-93ba-dd9bdda7cfc6",
   "metadata": {},
   "outputs": [
    {
     "data": {
      "image/png": "[encoded data removed]",
      "text/plain": [
       "<Figure size 432x288 with 1 Axes>"
      ]
     },
     "metadata": {},
     "output_type": "display_data"
    }
   ],
   "source": [
    "from sklearn.model_selection import learning_curve\n",
    "\n",
    "train_sizes, train_scores, test_scores = learning_curve(pipeline, X, y, scoring='accuracy', cv=cv, n_jobs=2)\n",
    "\n",
    "train_scores_mean = np.mean(train_scores, axis=1)\n",
    "train_scores_std = np.std(train_scores, axis=1)\n",
    "\n",
    "test_scores_mean = np.mean(test_scores, axis=1)\n",
    "test_scores_std = np.std(test_scores, axis=1)\n",
    "\n",
    "plt.plot(train_sizes, train_scores_mean, 'o-', label='Training Recall')\n",
    "plt.fill_between(train_sizes, train_scores_mean - train_scores_std, train_scores_mean + train_scores_std, alpha=0.2)\n",
    "\n",
    "plt.plot(train_sizes, test_scores_mean, 'o-', label='Validation Recall')\n",
    "plt.fill_between(train_sizes, test_scores_mean - test_scores_std, test_scores_mean + test_scores_std, alpha=0.2)\n",
    "\n",
    "plt.title('Learning Curve')\n",
    "plt.xlabel('Training Size')\n",
    "plt.ylabel('Recall')\n",
    "plt.legend()\n",
    "plt.show()\n"
   ]
  },
  {
   "cell_type": "code",
   "execution_count": 111,
   "id": "6394cd97-1255-4e88-83b6-4f4b79f8393f",
   "metadata": {},
   "outputs": [
    {
     "data": {
      "text/plain": [
       "array([ 641, 2085, 3529, 4973, 6417])"
      ]
     },
     "execution_count": 111,
     "metadata": {},
     "output_type": "execute_result"
    }
   ],
   "source": [
    "train_sizes"
   ]
  },
  {
   "cell_type": "code",
   "execution_count": 112,
   "id": "03039fe9-b1c0-424c-9b80-29daec6b696f",
   "metadata": {},
   "outputs": [
    {
     "data": {
      "text/plain": [
       "XGBClassifier(base_score=None, booster=None, callbacks=None,\n",
       "              colsample_bylevel=None, colsample_bynode=None,\n",
       "              colsample_bytree=None, device=None, early_stopping_rounds=None,\n",
       "              enable_categorical=False, eval_metric=None, feature_types=None,\n",
       "              gamma=None, grow_policy=None, importance_type=None,\n",
       "              interaction_constraints=None, learning_rate=None, max_bin=None,\n",
       "              max_cat_threshold=None, max_cat_to_onehot=None,\n",
       "              max_delta_step=None, max_depth=None, max_leaves=None,\n",
       "              min_child_weight=None, missing=nan, monotone_constraints=None,\n",
       "              multi_strategy=None, n_estimators=None, n_jobs=None,\n",
       "              num_parallel_tree=None, random_state=None, ...)"
      ]
     },
     "execution_count": 112,
     "metadata": {},
     "output_type": "execute_result"
    }
   ],
   "source": [
    "X_train, X_test, y_train, y_test = train_test_split(X, y, test_size=0.33, random_state=101)\n",
    "scaler=MinMaxScaler(feature_range=(0,1))\n",
    "X_train=pd.DataFrame(scaler.fit_transform(X_train))\n",
    "X_test=pd.DataFrame(scaler.transform(X_test))\n",
    "oversample=RandomOverSampler(sampling_strategy=1)\n",
    "X_ROS, y_ROS = oversample.fit_resample(X_train, y_train)\n",
    "gb_model=XGBClassifier()\n",
    "gb_model.fit(X_ROS,y_ROS)"
   ]
  },
  {
   "cell_type": "code",
   "execution_count": 113,
   "id": "e3559cd3-4040-4768-87c5-e70d1745b26d",
   "metadata": {},
   "outputs": [
    {
     "data": {
      "text/plain": [
       "Pipeline(steps=[('minmaxscaler', MinMaxScaler()),\n",
       "                ('randomoversampler',\n",
       "                 RandomOverSampler(sampling_strategy='minority')),\n",
       "                ('xgbclassifier',\n",
       "                 XGBClassifier(base_score=None, booster=None, callbacks=None,\n",
       "                               colsample_bylevel=None, colsample_bynode=None,\n",
       "                               colsample_bytree=None, device=None,\n",
       "                               early_stopping_rounds=None,\n",
       "                               enable_categorical=False, eval_metric=None,\n",
       "                               feature_t...ow_policy=None,\n",
       "                               importance_type=None,\n",
       "                               interaction_constraints=None, learning_rate=None,\n",
       "                               max_bin=None, max_cat_threshold=None,\n",
       "                               max_cat_to_onehot=None, max_delta_step=None,\n",
       "                               max_depth=None, max_leaves=None,\n",
       "                               min_child_weight=None, missing=nan,\n",
       "                               monotone_constraints=None, multi_strategy=None,\n",
       "                               n_estimators=10, n_jobs=None,\n",
       "                               num_parallel_tree=None, random_state=None, ...))])"
      ]
     },
     "execution_count": 113,
     "metadata": {},
     "output_type": "execute_result"
    }
   ],
   "source": [
    "X_train, X_test, y_train, y_test = train_test_split(X, y, test_size=0.33, random_state=101)\n",
    "pipeline.fit(X_train,y_train)"
   ]
  },
  {
   "cell_type": "code",
   "execution_count": 114,
   "id": "17839857-a0b4-4537-b63a-d87cbee58ed3",
   "metadata": {},
   "outputs": [
    {
     "name": "stdout",
     "output_type": "stream",
     "text": [
      "              precision    recall  f1-score   support\n",
      "\n",
      "           0       0.92      0.82      0.86      2521\n",
      "           1       0.50      0.72      0.59       656\n",
      "\n",
      "    accuracy                           0.80      3177\n",
      "   macro avg       0.71      0.77      0.73      3177\n",
      "weighted avg       0.83      0.80      0.81      3177\n",
      "\n"
     ]
    }
   ],
   "source": [
    "from sklearn.metrics import classification_report\n",
    "y_pred=pipeline.predict(X_test)\n",
    "print(classification_report(y_test,y_pred))"
   ]
  },
  {
   "cell_type": "code",
   "execution_count": 115,
   "id": "315db9d0-2b13-4834-ab8c-e387ce1ed7e5",
   "metadata": {},
   "outputs": [
    {
     "data": {
      "image/png": "[encoded data removed]",
      "text/plain": [
       "<Figure size 432x288 with 2 Axes>"
      ]
     },
     "metadata": {},
     "output_type": "display_data"
    }
   ],
   "source": [
    "from sklearn.metrics import ConfusionMatrixDisplay\n",
    "cm=confusion_matrix(y_test,y_pred)\n",
    "cm_d=ConfusionMatrixDisplay(confusion_matrix=cm)\n",
    "cm_d.plot()\n",
    "plt.show()"
   ]
  },
  {
   "cell_type": "code",
   "execution_count": 116,
   "id": "42dbfc6a-733a-4d7f-8c55-57803c316e43",
   "metadata": {},
   "outputs": [
    {
     "data": {
      "text/plain": [
       "0.7679274581321774"
      ]
     },
     "execution_count": 116,
     "metadata": {},
     "output_type": "execute_result"
    }
   ],
   "source": [
    "roc_auc_score(y_test,y_pred)"
   ]
  }
 ],
 "metadata": {
  "kernelspec": {
   "display_name": "Python 3 (ipykernel)",
   "language": "python",
   "name": "python3"
  },
  "language_info": {
   "codemirror_mode": {
    "name": "ipython",
    "version": 3
   },
   "file_extension": ".py",
   "mimetype": "text/x-python",
   "name": "python",
   "nbconvert_exporter": "python",
   "pygments_lexer": "ipython3",
   "version": "3.9.12"
  }
 },
 "nbformat": 4,
 "nbformat_minor": 5
}
